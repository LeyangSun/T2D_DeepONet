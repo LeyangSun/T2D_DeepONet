{
 "cells": [
  {
   "cell_type": "markdown",
   "id": "35465159-6ccd-43f9-95b4-65b86d15affe",
   "metadata": {},
   "source": [
    "\n",
    "## Data preprocessing"
   ]
  },
  {
   "cell_type": "code",
   "execution_count": 1,
   "id": "c27b4244-2c79-4a1e-a47c-4e4c52eb18e4",
   "metadata": {
    "tags": []
   },
   "outputs": [],
   "source": [
    "from itertools import chain\n",
    "import pandas as pd\n",
    "import numpy as np\n",
    "from datetime import timedelta"
   ]
  },
  {
   "cell_type": "markdown",
   "id": "2532ca62-ef65-4581-901d-bfdf2386ff7a",
   "metadata": {},
   "source": [
    "# 1. import df: merge_raw_1 and df: index_date"
   ]
  },
  {
   "cell_type": "code",
   "execution_count": 2,
   "id": "d70187d9-8369-446c-8f32-d5b7ad2c6333",
   "metadata": {
    "tags": []
   },
   "outputs": [
    {
     "name": "stdout",
     "output_type": "stream",
     "text": [
      "                   deid_pat_ID index_date\n",
      "0       IRB202003281_PAT_10045 2016-11-23\n",
      "1       IRB202003281_PAT_10055 2015-08-05\n",
      "2       IRB202003281_PAT_10065 2017-03-21\n",
      "3      IRB202003281_PAT_100942 2016-01-14\n",
      "4       IRB202003281_PAT_10095 2019-12-05\n",
      "...                        ...        ...\n",
      "11605    IRB202003281_PAT_9788 2021-06-08\n",
      "11606    IRB202003281_PAT_9790 2017-08-04\n",
      "11607    IRB202003281_PAT_9845 2021-01-12\n",
      "11608    IRB202003281_PAT_9871 2021-10-01\n",
      "11609     IRB202003281_PAT_995 2016-10-21\n",
      "\n",
      "[11610 rows x 2 columns]\n"
     ]
    }
   ],
   "source": [
    "file0_path = '/blue/bianjiang/leyang.sun/subset_identification_serena_patid_v7_index_ini.csv'\n",
    "df_index_date = pd.read_csv(file0_path)\n",
    "df_index_date['index_date'] = pd.to_datetime(df_index_date['index_date'])\n",
    "df_index_date = df_index_date[['deid_pat_ID', 'index_date']]\n",
    "print(df_index_date)"
   ]
  },
  {
   "cell_type": "code",
   "execution_count": 3,
   "id": "8b1c4305-83c0-4b09-be56-9094bfd3c325",
   "metadata": {
    "tags": []
   },
   "outputs": [
    {
     "name": "stdout",
     "output_type": "stream",
     "text": [
      "<bound method NDFrame.head of          Unnamed: 0             deid_pat_ID  SEX_CD  \\\n",
      "0                 0  IRB202003281_PAT_10045  Female   \n",
      "1                 1  IRB202003281_PAT_10045  Female   \n",
      "2                 2  IRB202003281_PAT_10045  Female   \n",
      "3                 3  IRB202003281_PAT_10045  Female   \n",
      "4                 4  IRB202003281_PAT_10045  Female   \n",
      "...             ...                     ...     ...   \n",
      "8796276     8796276    IRB202003281_PAT_995  Female   \n",
      "8796277     8796277    IRB202003281_PAT_995  Female   \n",
      "8796278     8796278    IRB202003281_PAT_995  Female   \n",
      "8796279     8796279    IRB202003281_PAT_995  Female   \n",
      "8796280     8796280    IRB202003281_PAT_995  Female   \n",
      "\n",
      "                           RACE_CD  Index_age  Index_diff  \\\n",
      "0                            Other         50  18157 days   \n",
      "1                            Other         50  18157 days   \n",
      "2                            Other         50  18157 days   \n",
      "3                            Other         50  18157 days   \n",
      "4                            Other         50  18157 days   \n",
      "...                            ...        ...         ...   \n",
      "8796276  Black or African American         57  20875 days   \n",
      "8796277  Black or African American         57  20875 days   \n",
      "8796278  Black or African American         57  20875 days   \n",
      "8796279  Black or African American         57  20875 days   \n",
      "8796280  Black or African American         57  20875 days   \n",
      "\n",
      "                       deid_enc_ID START_DATE  BP_Diastolic  Triglycerides  \\\n",
      "0        IRB202003281_ENC_11034772 2016-06-02           NaN          160.0   \n",
      "1        IRB202003281_ENC_11035503 2016-02-18           NaN          174.0   \n",
      "2        IRB202003281_ENC_11035232 2015-11-16           NaN          113.0   \n",
      "3        IRB202003281_ENC_11034020 2016-09-28           NaN            NaN   \n",
      "4        IRB202003281_ENC_11034302 2015-08-20           NaN            NaN   \n",
      "...                            ...        ...           ...            ...   \n",
      "8796276  IRB202003281_ENC_16157682 2014-04-23           NaN            NaN   \n",
      "8796277  IRB202003281_ENC_16157689 2014-04-23           NaN            NaN   \n",
      "8796278  IRB202003281_ENC_16157690 2014-04-23           NaN            NaN   \n",
      "8796279  IRB202003281_ENC_16157691 2014-04-23           NaN            NaN   \n",
      "8796280  IRB202003281_ENC_10603760 2016-02-22           NaN            NaN   \n",
      "\n",
      "         ...  comp_Ketoacidosis  comp_Neuropathy  comp_Stroke  \\\n",
      "0        ...                  0                0            0   \n",
      "1        ...                  0                0            0   \n",
      "2        ...                  0                0            0   \n",
      "3        ...                  0                0            0   \n",
      "4        ...                  0                0            0   \n",
      "...      ...                ...              ...          ...   \n",
      "8796276  ...                  0                0            0   \n",
      "8796277  ...                  0                0            0   \n",
      "8796278  ...                  0                0            0   \n",
      "8796279  ...                  0                0            0   \n",
      "8796280  ...                  0                0            0   \n",
      "\n",
      "         comp_Secondary_diabetes  comp_Atrial_fibrillation  \\\n",
      "0                              0                         0   \n",
      "1                              0                         0   \n",
      "2                              0                         0   \n",
      "3                              0                         0   \n",
      "4                              0                         0   \n",
      "...                          ...                       ...   \n",
      "8796276                        0                         0   \n",
      "8796277                        0                         0   \n",
      "8796278                        0                         0   \n",
      "8796279                        0                         0   \n",
      "8796280                        0                         0   \n",
      "\n",
      "         comp_Chronic_kidney_disease  comp_Peripheral_vascular_disease  \\\n",
      "0                                  0                                 0   \n",
      "1                                  0                                 0   \n",
      "2                                  0                                 0   \n",
      "3                                  0                                 0   \n",
      "4                                  0                                 0   \n",
      "...                              ...                               ...   \n",
      "8796276                            0                                 0   \n",
      "8796277                            0                                 0   \n",
      "8796278                            0                                 0   \n",
      "8796279                            0                                 0   \n",
      "8796280                            0                                 1   \n",
      "\n",
      "         comp_Gestational_diabetes  comp_Nephropathy  comp_Retinopathy  \n",
      "0                                0                 0                 0  \n",
      "1                                0                 0                 0  \n",
      "2                                0                 0                 0  \n",
      "3                                0                 0                 0  \n",
      "4                                0                 0                 0  \n",
      "...                            ...               ...               ...  \n",
      "8796276                          0                 0                 0  \n",
      "8796277                          0                 0                 0  \n",
      "8796278                          0                 0                 0  \n",
      "8796279                          0                 0                 0  \n",
      "8796280                          0                 0                 0  \n",
      "\n",
      "[8796281 rows x 62 columns]>\n"
     ]
    }
   ],
   "source": [
    "file_path = '/blue/bianjiang/leyang.sun/merged_raw_1.csv'\n",
    "df_t2d_ehr = pd.read_csv(file_path)\n",
    "df_t2d_ehr['START_DATE'] = pd.to_datetime(df_t2d_ehr['START_DATE'])\n",
    "print(df_t2d_ehr.head)"
   ]
  },
  {
   "cell_type": "code",
   "execution_count": 4,
   "id": "5fe47239-2c57-4ae1-b2b9-07bb94fe2190",
   "metadata": {
    "tags": []
   },
   "outputs": [
    {
     "name": "stdout",
     "output_type": "stream",
     "text": [
      "RangeIndex(start=0, stop=8796281, step=1)\n"
     ]
    }
   ],
   "source": [
    "df_t2d_ehr_no_duplicates = df_t2d_ehr.drop_duplicates()\n",
    "print(df_t2d_ehr_no_duplicates.index)"
   ]
  },
  {
   "cell_type": "code",
   "execution_count": 5,
   "id": "b52b77f9-6920-4e0a-85d9-ee0a884d1a19",
   "metadata": {
    "tags": []
   },
   "outputs": [
    {
     "name": "stdout",
     "output_type": "stream",
     "text": [
      "7988816\n"
     ]
    }
   ],
   "source": [
    "print(df_t2d_ehr['HbA1c'].isna().sum()) # 807465 left"
   ]
  },
  {
   "cell_type": "markdown",
   "id": "77b07d37-31da-4508-ba83-e18769c66b9d",
   "metadata": {},
   "source": [
    "## filter out patients witho no HbA1c value"
   ]
  },
  {
   "cell_type": "code",
   "execution_count": 5,
   "id": "ea8c6e13-5182-4f3d-9ffc-201534d400b4",
   "metadata": {
    "tags": []
   },
   "outputs": [
    {
     "name": "stdout",
     "output_type": "stream",
     "text": [
      "Index([      0,       1,       2,       3,       4,       5,       6,     285,\n",
      "           286,     287,\n",
      "       ...\n",
      "       8795450, 8795451, 8795452, 8795560, 8795583, 8795684, 8795685, 8795686,\n",
      "       8795687, 8795688],\n",
      "      dtype='int64', length=807465)\n"
     ]
    }
   ],
   "source": [
    "# Extract rows with non-zero values in both 'Column1' or 'Column2'\n",
    "specific_column_name = 'HbA1c'\n",
    "df_t2d_ehr_with_h1 = df_t2d_ehr[df_t2d_ehr[specific_column_name].notna()]\n",
    "print(df_t2d_ehr_with_h1.index)"
   ]
  },
  {
   "cell_type": "code",
   "execution_count": 6,
   "id": "ad0f8eaa-8a38-44fb-838a-4856b1cbd917",
   "metadata": {
    "tags": []
   },
   "outputs": [
    {
     "name": "stdout",
     "output_type": "stream",
     "text": [
      "<bound method NDFrame.head of          Unnamed: 0             deid_pat_ID  SEX_CD  \\\n",
      "0                 0  IRB202003281_PAT_10045  Female   \n",
      "1                 1  IRB202003281_PAT_10045  Female   \n",
      "2                 2  IRB202003281_PAT_10045  Female   \n",
      "3                 3  IRB202003281_PAT_10045  Female   \n",
      "4                 4  IRB202003281_PAT_10045  Female   \n",
      "...             ...                     ...     ...   \n",
      "8795684     8795684    IRB202003281_PAT_995  Female   \n",
      "8795685     8795685    IRB202003281_PAT_995  Female   \n",
      "8795686     8795686    IRB202003281_PAT_995  Female   \n",
      "8795687     8795687    IRB202003281_PAT_995  Female   \n",
      "8795688     8795688    IRB202003281_PAT_995  Female   \n",
      "\n",
      "                           RACE_CD  Index_age  Index_diff  \\\n",
      "0                            Other         50  18157 days   \n",
      "1                            Other         50  18157 days   \n",
      "2                            Other         50  18157 days   \n",
      "3                            Other         50  18157 days   \n",
      "4                            Other         50  18157 days   \n",
      "...                            ...        ...         ...   \n",
      "8795684  Black or African American         57  20875 days   \n",
      "8795685  Black or African American         57  20875 days   \n",
      "8795686  Black or African American         57  20875 days   \n",
      "8795687  Black or African American         57  20875 days   \n",
      "8795688  Black or African American         57  20875 days   \n",
      "\n",
      "                       deid_enc_ID START_DATE  BP_Diastolic  Triglycerides  \\\n",
      "0        IRB202003281_ENC_11034772 2016-06-02           NaN          160.0   \n",
      "1        IRB202003281_ENC_11035503 2016-02-18           NaN          174.0   \n",
      "2        IRB202003281_ENC_11035232 2015-11-16           NaN          113.0   \n",
      "3        IRB202003281_ENC_11034020 2016-09-28           NaN            NaN   \n",
      "4        IRB202003281_ENC_11034302 2015-08-20           NaN            NaN   \n",
      "...                            ...        ...           ...            ...   \n",
      "8795684  IRB202003281_ENC_10602301 2014-04-23           NaN          130.0   \n",
      "8795685  IRB202003281_ENC_10604119 2015-12-16           NaN            NaN   \n",
      "8795686  IRB202003281_ENC_10601527 2015-07-22           NaN            NaN   \n",
      "8795687  IRB202003281_ENC_10603510 2015-03-12           NaN            NaN   \n",
      "8795688  IRB202003281_ENC_10604571 2014-12-12           NaN            NaN   \n",
      "\n",
      "         ...  comp_Ketoacidosis  comp_Neuropathy  comp_Stroke  \\\n",
      "0        ...                  0                0            0   \n",
      "1        ...                  0                0            0   \n",
      "2        ...                  0                0            0   \n",
      "3        ...                  0                0            0   \n",
      "4        ...                  0                0            0   \n",
      "...      ...                ...              ...          ...   \n",
      "8795684  ...                  0                0            0   \n",
      "8795685  ...                  0                0            0   \n",
      "8795686  ...                  0                0            0   \n",
      "8795687  ...                  0                0            1   \n",
      "8795688  ...                  0                0            1   \n",
      "\n",
      "         comp_Secondary_diabetes  comp_Atrial_fibrillation  \\\n",
      "0                              0                         0   \n",
      "1                              0                         0   \n",
      "2                              0                         0   \n",
      "3                              0                         0   \n",
      "4                              0                         0   \n",
      "...                          ...                       ...   \n",
      "8795684                        0                         0   \n",
      "8795685                        0                         0   \n",
      "8795686                        0                         0   \n",
      "8795687                        0                         0   \n",
      "8795688                        0                         0   \n",
      "\n",
      "         comp_Chronic_kidney_disease  comp_Peripheral_vascular_disease  \\\n",
      "0                                  0                                 0   \n",
      "1                                  0                                 0   \n",
      "2                                  0                                 0   \n",
      "3                                  0                                 0   \n",
      "4                                  0                                 0   \n",
      "...                              ...                               ...   \n",
      "8795684                            0                                 0   \n",
      "8795685                            0                                 0   \n",
      "8795686                            0                                 0   \n",
      "8795687                            0                                 0   \n",
      "8795688                            0                                 0   \n",
      "\n",
      "         comp_Gestational_diabetes  comp_Nephropathy  comp_Retinopathy  \n",
      "0                                0                 0                 0  \n",
      "1                                0                 0                 0  \n",
      "2                                0                 0                 0  \n",
      "3                                0                 0                 0  \n",
      "4                                0                 0                 0  \n",
      "...                            ...               ...               ...  \n",
      "8795684                          0                 0                 0  \n",
      "8795685                          0                 0                 0  \n",
      "8795686                          0                 0                 0  \n",
      "8795687                          0                 0                 0  \n",
      "8795688                          0                 0                 0  \n",
      "\n",
      "[807465 rows x 62 columns]>\n"
     ]
    }
   ],
   "source": [
    "print(df_t2d_ehr_with_h1.head)"
   ]
  },
  {
   "cell_type": "code",
   "execution_count": 7,
   "id": "1f6878ad-dbc8-4f03-9f07-49288698f553",
   "metadata": {
    "tags": []
   },
   "outputs": [
    {
     "name": "stdout",
     "output_type": "stream",
     "text": [
      "                    deid_pat_ID START_DATE\n",
      "0        IRB202003281_PAT_10045 2016-06-02\n",
      "1        IRB202003281_PAT_10045 2016-02-18\n",
      "2        IRB202003281_PAT_10045 2015-11-16\n",
      "3        IRB202003281_PAT_10045 2016-09-28\n",
      "4        IRB202003281_PAT_10045 2015-08-20\n",
      "...                         ...        ...\n",
      "8795684    IRB202003281_PAT_995 2014-04-23\n",
      "8795685    IRB202003281_PAT_995 2015-12-16\n",
      "8795686    IRB202003281_PAT_995 2015-07-22\n",
      "8795687    IRB202003281_PAT_995 2015-03-12\n",
      "8795688    IRB202003281_PAT_995 2014-12-12\n",
      "\n",
      "[807465 rows x 2 columns]\n"
     ]
    }
   ],
   "source": [
    "df_encdate = df_t2d_ehr_with_h1[['deid_pat_ID', 'START_DATE']]\n",
    "print(df_encdate) # 807465\n"
   ]
  },
  {
   "cell_type": "code",
   "execution_count": 8,
   "id": "e2adcedd-fe81-49c0-b576-015976601692",
   "metadata": {},
   "outputs": [
    {
     "name": "stdout",
     "output_type": "stream",
     "text": [
      "18 55\n"
     ]
    }
   ],
   "source": [
    "# 'SEX_CD', 'RACE_CD'\n",
    "cont_cols = ['Index_age','BP_Diastolic', 'Triglycerides', 'HDL', \n",
    "             'BMI', 'GFR', 'LDL', 'med_Metformin', 'med_Thiazolidinedione', \n",
    "             'med_DPP4i', 'med_RAS', 'med_non_loops', 'med_Sulfonylurea', \n",
    "             'med_lipid', 'med_Loop', 'med_CCB', 'med_Beta_blockers','HbA1c']\n",
    "disc_cols = ['comp_Alcohol_use_disorder', 'comp_Pregnancy', 'comp_Angina_flag',\n",
    "            'comp_Blindness_and_vision_loss', 'comp_Congestive_heart_failure',\n",
    "            'comp_Depression', 'comp_Myocardial_Infarction_MI', 'comp_Cardiac_revascularization',\n",
    "            'comp_History_of_Myocardial_Infarction', 'comp_Obesity',\n",
    "            'comp_Cerebrovascular_Disease', 'comp_Hypoglycemia', \n",
    "            'comp_Lower_extremity_amputation', 'comp_Hypertension',\n",
    "            'comp_Exercise_x', 'comp_Photocoagulation', 'comp_Exercise_y',\n",
    "            'comp_Foot_ulcer', 'comp_History_of_stroke', 'comp_Cancer', \n",
    "            'comp_Hypercholesterolaemia', 'comp_Visual_impairment', \n",
    "            'comp_End_Stage_Renal_Disease', 'comp_Cardiovascular_Disease', \n",
    "            'comp_Retinopathy_intravitreal_injections', 'comp_Drug_use_disorder', \n",
    "            'comp_Organ_transplant', 'comp_Ketoacidosis', 'comp_Neuropathy', \n",
    "            'comp_Stroke', 'comp_Secondary_diabetes', 'comp_Atrial_fibrillation', \n",
    "            'comp_Chronic_kidney_disease', 'comp_Peripheral_vascular_disease', \n",
    "            'comp_Gestational_diabetes', 'comp_Nephropathy', 'comp_Retinopathy']\n",
    "total_col= cont_cols + disc_cols\n",
    "\n",
    "print(len(cont_cols),len(total_col))"
   ]
  },
  {
   "cell_type": "code",
   "execution_count": 9,
   "id": "e812f42a-7803-452e-ba6d-8fe04ad4e001",
   "metadata": {
    "tags": []
   },
   "outputs": [
    {
     "name": "stdout",
     "output_type": "stream",
     "text": [
      "                   deid_pat_ID  timestamp  Index_age  BP_Diastolic  \\\n",
      "0       IRB202003281_PAT_10006          1       48.0           NaN   \n",
      "1       IRB202003281_PAT_10006          2       48.0           NaN   \n",
      "2       IRB202003281_PAT_10006          3       48.0           NaN   \n",
      "3       IRB202003281_PAT_10006          4       48.0           NaN   \n",
      "4       IRB202003281_PAT_10006          5       48.0           NaN   \n",
      "...                        ...        ...        ...           ...   \n",
      "152134   IRB202003281_PAT_9997         22       47.0          70.0   \n",
      "152135   IRB202003281_PAT_9997         23       47.0          70.0   \n",
      "152136   IRB202003281_PAT_9997         24       47.0          70.0   \n",
      "152137   IRB202003281_PAT_9997         25       47.0          70.0   \n",
      "152138   IRB202003281_PAT_9997         26       47.0          70.0   \n",
      "\n",
      "        Triglycerides   HDL    BMI    GFR   LDL  med_Metformin  ...  \\\n",
      "0               308.0  46.0  38.92  102.0  94.0            NaN  ...   \n",
      "1               308.0  46.0  38.92  102.0  94.0            NaN  ...   \n",
      "2               308.0  46.0  38.92  102.0  94.0            NaN  ...   \n",
      "3               308.0  46.0  38.92  102.0  94.0            NaN  ...   \n",
      "4               308.0  46.0  38.92  102.0  94.0            NaN  ...   \n",
      "...               ...   ...    ...    ...   ...            ...  ...   \n",
      "152134          116.2  43.2  29.99   59.0  74.8       367852.0  ...   \n",
      "152135          105.0  52.0  32.50   59.0  98.0       367852.0  ...   \n",
      "152136           93.0  35.0  32.50   59.0  54.0       367852.0  ...   \n",
      "152137           93.0  35.0  29.29   59.0  54.0       367852.0  ...   \n",
      "152138           81.0  55.0  29.29  114.0  88.0       367852.0  ...   \n",
      "\n",
      "        comp_Ketoacidosis  comp_Neuropathy  comp_Stroke  \\\n",
      "0                     0.0              0.0          0.0   \n",
      "1                     0.0              0.0          0.0   \n",
      "2                     0.0              0.0          0.0   \n",
      "3                     0.0              0.0          0.0   \n",
      "4                     0.0              0.0          0.0   \n",
      "...                   ...              ...          ...   \n",
      "152134                0.0              0.8          0.0   \n",
      "152135                0.0              0.0          0.0   \n",
      "152136                0.0              0.0          0.0   \n",
      "152137                0.0              0.0          0.0   \n",
      "152138                0.0              0.0          0.0   \n",
      "\n",
      "        comp_Secondary_diabetes  comp_Atrial_fibrillation  \\\n",
      "0                           0.0                       0.0   \n",
      "1                           0.0                       0.0   \n",
      "2                           0.0                       0.0   \n",
      "3                           0.0                       0.0   \n",
      "4                           0.0                       0.0   \n",
      "...                         ...                       ...   \n",
      "152134                      0.2                       0.0   \n",
      "152135                      0.0                       0.0   \n",
      "152136                      0.0                       0.0   \n",
      "152137                      0.0                       0.0   \n",
      "152138                      1.0                       0.0   \n",
      "\n",
      "        comp_Chronic_kidney_disease  comp_Peripheral_vascular_disease  \\\n",
      "0                               0.0                               0.0   \n",
      "1                               0.0                               0.0   \n",
      "2                               0.0                               0.0   \n",
      "3                               0.0                               0.0   \n",
      "4                               0.0                               0.0   \n",
      "...                             ...                               ...   \n",
      "152134                          0.0                               0.8   \n",
      "152135                          0.0                               0.0   \n",
      "152136                          0.0                               1.0   \n",
      "152137                          0.0                               0.0   \n",
      "152138                          0.0                               1.0   \n",
      "\n",
      "        comp_Gestational_diabetes  comp_Nephropathy  comp_Retinopathy  \n",
      "0                             0.0               0.0               0.0  \n",
      "1                             0.0               0.0               0.0  \n",
      "2                             0.0               0.0               0.0  \n",
      "3                             0.0               0.0               0.0  \n",
      "4                             0.0               0.0               0.0  \n",
      "...                           ...               ...               ...  \n",
      "152134                        0.0               0.0               0.0  \n",
      "152135                        0.0               0.0               0.0  \n",
      "152136                        0.0               0.0               0.0  \n",
      "152137                        0.0               0.0               0.0  \n",
      "152138                        0.0               0.0               0.0  \n",
      "\n",
      "[152139 rows x 57 columns]\n"
     ]
    }
   ],
   "source": [
    "\n",
    "# Precompute minimum and maximum 'START_DATE' for each patient\n",
    "min_start_dates = df_t2d_ehr_with_h1.groupby('deid_pat_ID')['START_DATE'].min()\n",
    "max_start_dates = df_t2d_ehr_with_h1.groupby('deid_pat_ID')['START_DATE'].max()\n",
    "\n",
    "# Initialize an empty list to store DataFrames for concatenation\n",
    "dfs_to_concat = []\n",
    "\n",
    "for patient_id in min_start_dates.index:\n",
    "    max_start_date = max_start_dates[patient_id]\n",
    "    min_start_date = min_start_dates[patient_id]\n",
    "    num_time_windows = (max_start_date - min_start_date).days // 90 + 1\n",
    "\n",
    "    for i in range(num_time_windows):\n",
    "        start_date = min_start_date + pd.DateOffset(days=90 * i)\n",
    "        end_date = min_start_date + pd.DateOffset(days=90 * (i + 1))\n",
    "\n",
    "        data_within_time_window = df_t2d_ehr_with_h1[\n",
    "            (df_t2d_ehr_with_h1['deid_pat_ID'] == patient_id) &\n",
    "            (df_t2d_ehr_with_h1['START_DATE'] >= start_date) &\n",
    "            (df_t2d_ehr_with_h1['START_DATE'] < end_date)\n",
    "            ]\n",
    "\n",
    "        if not data_within_time_window.empty:\n",
    "            new_row = {'deid_pat_ID': patient_id, 'timestamp': i + 1}\n",
    "            for col in total_col:\n",
    "                average_value = data_within_time_window[col].mean()\n",
    "                new_row[col] = average_value\n",
    "            dfs_to_concat.append(pd.DataFrame([new_row]))\n",
    "\n",
    "        else:\n",
    "            # If data_within_time_window is empty, copy the record of the last timepoint\n",
    "            last_timestamp_data = dfs_to_concat[-1][dfs_to_concat[-1]['deid_pat_ID'] == patient_id]\n",
    "            new_row = {'deid_pat_ID': patient_id, 'timestamp': i + 1}\n",
    "            for col in total_col:\n",
    "                new_row[col] = last_timestamp_data[col].values[0]\n",
    "            dfs_to_concat.append(pd.DataFrame([new_row]))            \n",
    "            \n",
    "            \n",
    "# Concatenate DataFrames in the list\n",
    "result_df = pd.concat(dfs_to_concat, ignore_index=True)\n",
    "\n",
    "# Fill missing values with values from the last timestamp\n",
    "result_df = result_df.ffill()\n",
    "\n",
    "# Print the updated DataFrame\n",
    "print(result_df)\n"
   ]
  },
  {
   "cell_type": "code",
   "execution_count": null,
   "id": "3907e47a-e758-4a5d-a171-08a8e11abede",
   "metadata": {
    "tags": []
   },
   "outputs": [],
   "source": [
    "import pandas as pd\n",
    "from datetime import timedelta\n",
    "\n",
    "# Sample DataFrame with patient data, including multiple value columns\n",
    "data = {'deid_pat_ID': [1, 1, 1, 1, 2, 2, 2],\n",
    "        'START_DATE': ['2023-01-01', '2023-04-05', '2023-08-20', '2023-09-15', '2023-02-10', '2023-03-25', '2023-07-10'],\n",
    "        'value1': [10, 15, 12, 18, 5, 7, 9],\n",
    "        'value2': [8, 13, 11, 17, 4, 6, 8],\n",
    "        'value3': [9, 14, 10, 16, 6, 8, 7]}\n",
    "df = pd.DataFrame(data)\n",
    "\n",
    "# Convert 'START_DATE' to datetime\n",
    "df['START_DATE'] = pd.to_datetime(df['START_DATE'])\n",
    "\n",
    "# Initialize an empty DataFrame to store the results with columns\n",
    "result_df = pd.DataFrame(columns=['deid_pat_ID', 'timestamp'] + [col for col in df.columns if col.startswith('value')])\n",
    "\n",
    "# Group the data by 'deid_pat_ID'\n",
    "grouped = df.groupby('deid_pat_ID')\n",
    "\n",
    "# Iterate over each patient's data\n",
    "for patient_id, patient_group in grouped:\n",
    "    # Calculate the minimum and maximum 'START_DATE' for the patient\n",
    "    min_start_date = patient_group['START_DATE'].min()\n",
    "    max_start_date = patient_group['START_DATE'].max()\n",
    "\n",
    "    # Calculate the number of three-month time windows\n",
    "    num_time_windows = (max_start_date - min_start_date).days // 90 + 1\n",
    "\n",
    "    # Iterate over each time window\n",
    "    for i in range(num_time_windows):\n",
    "        # Calculate the start and end dates for the time window\n",
    "        start_date = min_start_date + timedelta(days=90 * i)\n",
    "        end_date = min_start_date + timedelta(days=90 * (i + 1))\n",
    "\n",
    "        # Filter data for the current time window\n",
    "        data_within_time_window = patient_group[(patient_group['START_DATE'] >= start_date) & (patient_group['START_DATE'] < end_date)]\n",
    "\n",
    "        if len(data_within_time_window) == 0:\n",
    "            # If there is no data in the time window, copy the values from the last timestamp\n",
    "            if i > 0:\n",
    "                last_row = result_df[(result_df['deid_pat_ID'] == patient_id) & (result_df['timestamp'] == i)].copy()\n",
    "                last_row['timestamp'] = i + 1\n",
    "                result_df = result_df.append(last_row)\n",
    "        else:\n",
    "            # Calculate the average values for the time window for each value column\n",
    "            new_row = {'deid_pat_ID': patient_id, 'timestamp': i + 1}\n",
    "            df_new_row = pd.DataFrame([new_row], index=[0])\n",
    "            for col in df.columns:    \n",
    "                if col.startswith('value'):\n",
    "                    average_value = data_within_time_window[col].mean()\n",
    "                    df_new_row[col] = average_value\n",
    "            result_df = pd.concat([result_df, df_new_row], ignore_index=True)\n",
    "\n"
   ]
  },
  {
   "cell_type": "code",
   "execution_count": 10,
   "id": "476a4727-e034-4f96-a44b-641a14e0c113",
   "metadata": {},
   "outputs": [
    {
     "name": "stdout",
     "output_type": "stream",
     "text": [
      "[0.         0.98969072 1.         0.9375     0.5        0.66666667\n",
      " 0.94117647 0.07142857 0.33333333 0.75       0.57142857 0.92307692\n",
      " 0.25       0.35294118 0.02702703 0.05263158 0.94736842 0.00277008\n",
      " 0.85714286 0.04       0.125      0.99310345 0.06666667 0.09183673\n",
      " 0.48979592 0.02040816 0.53846154 0.01020408 0.72727273 0.01351351\n",
      " 0.99082569 0.97297297 0.48648649 0.08333333 0.2        0.46153846\n",
      " 0.44444444 0.16666667 0.14285714 0.49541284 0.375      0.96\n",
      " 0.00230415 0.98245614 0.07692308 0.88888889 0.09090909 0.24038462\n",
      " 0.04545455 0.01369863 0.1        0.02173913 0.18181818 0.05882353]\n"
     ]
    }
   ],
   "source": [
    "print(result_df[\"comp_Chronic_kidney_disease\"].unique())"
   ]
  },
  {
   "cell_type": "code",
   "execution_count": 11,
   "id": "e4e09999-5bf9-40ff-969a-126518b9e832",
   "metadata": {
    "tags": []
   },
   "outputs": [],
   "source": [
    "result_df.to_csv('/blue/bianjiang/leyang.sun/aggreg_data.csv')"
   ]
  },
  {
   "cell_type": "code",
   "execution_count": 21,
   "id": "a9eabeab-d582-42a7-bc52-4e45b854214f",
   "metadata": {},
   "outputs": [
    {
     "name": "stdout",
     "output_type": "stream",
     "text": [
      "                   deid_pat_ID  timestamp  Index_age  BP_Diastolic  \\\n",
      "0       IRB202003281_PAT_10006          1       48.0           NaN   \n",
      "1       IRB202003281_PAT_10006          2       48.0           NaN   \n",
      "2       IRB202003281_PAT_10006          3       48.0           NaN   \n",
      "3       IRB202003281_PAT_10006          4       48.0           NaN   \n",
      "4       IRB202003281_PAT_10006          5       48.0           NaN   \n",
      "...                        ...        ...        ...           ...   \n",
      "152134   IRB202003281_PAT_9997         22       47.0          70.0   \n",
      "152135   IRB202003281_PAT_9997         23       47.0          70.0   \n",
      "152136   IRB202003281_PAT_9997         24       47.0          70.0   \n",
      "152137   IRB202003281_PAT_9997         25       47.0          70.0   \n",
      "152138   IRB202003281_PAT_9997         26       47.0          70.0   \n",
      "\n",
      "        Triglycerides   HDL    BMI    GFR   LDL  med_Metformin  ...  \\\n",
      "0               308.0  46.0  38.92  102.0  94.0            NaN  ...   \n",
      "1               308.0  46.0  38.92  102.0  94.0            NaN  ...   \n",
      "2               308.0  46.0  38.92  102.0  94.0            NaN  ...   \n",
      "3               308.0  46.0  38.92  102.0  94.0            NaN  ...   \n",
      "4               308.0  46.0  38.92  102.0  94.0            NaN  ...   \n",
      "...               ...   ...    ...    ...   ...            ...  ...   \n",
      "152134          116.2  43.2  29.99   59.0  74.8       367852.0  ...   \n",
      "152135          105.0  52.0  32.50   59.0  98.0       367852.0  ...   \n",
      "152136           93.0  35.0  32.50   59.0  54.0       367852.0  ...   \n",
      "152137           93.0  35.0  29.29   59.0  54.0       367852.0  ...   \n",
      "152138           81.0  55.0  29.29  114.0  88.0       367852.0  ...   \n",
      "\n",
      "        comp_Ketoacidosis  comp_Neuropathy  comp_Stroke  \\\n",
      "0                     0.0              0.0          0.0   \n",
      "1                     0.0              0.0          0.0   \n",
      "2                     0.0              0.0          0.0   \n",
      "3                     0.0              0.0          0.0   \n",
      "4                     0.0              0.0          0.0   \n",
      "...                   ...              ...          ...   \n",
      "152134                0.0              0.8          0.0   \n",
      "152135                0.0              0.0          0.0   \n",
      "152136                0.0              0.0          0.0   \n",
      "152137                0.0              0.0          0.0   \n",
      "152138                0.0              0.0          0.0   \n",
      "\n",
      "        comp_Secondary_diabetes  comp_Atrial_fibrillation  \\\n",
      "0                           0.0                       0.0   \n",
      "1                           0.0                       0.0   \n",
      "2                           0.0                       0.0   \n",
      "3                           0.0                       0.0   \n",
      "4                           0.0                       0.0   \n",
      "...                         ...                       ...   \n",
      "152134                      0.2                       0.0   \n",
      "152135                      0.0                       0.0   \n",
      "152136                      0.0                       0.0   \n",
      "152137                      0.0                       0.0   \n",
      "152138                      1.0                       0.0   \n",
      "\n",
      "        comp_Chronic_kidney_disease  comp_Peripheral_vascular_disease  \\\n",
      "0                               0.0                               0.0   \n",
      "1                               0.0                               0.0   \n",
      "2                               0.0                               0.0   \n",
      "3                               0.0                               0.0   \n",
      "4                               0.0                               0.0   \n",
      "...                             ...                               ...   \n",
      "152134                          0.0                               0.8   \n",
      "152135                          0.0                               0.0   \n",
      "152136                          0.0                               1.0   \n",
      "152137                          0.0                               0.0   \n",
      "152138                          0.0                               1.0   \n",
      "\n",
      "        comp_Gestational_diabetes  comp_Nephropathy  comp_Retinopathy  \n",
      "0                             0.0               0.0               0.0  \n",
      "1                             0.0               0.0               0.0  \n",
      "2                             0.0               0.0               0.0  \n",
      "3                             0.0               0.0               0.0  \n",
      "4                             0.0               0.0               0.0  \n",
      "...                           ...               ...               ...  \n",
      "152134                        0.0               0.0               0.0  \n",
      "152135                        0.0               0.0               0.0  \n",
      "152136                        0.0               0.0               0.0  \n",
      "152137                        0.0               0.0               0.0  \n",
      "152138                        0.0               0.0               0.0  \n",
      "\n",
      "[152139 rows x 57 columns]\n"
     ]
    }
   ],
   "source": [
    "# Print the updated DataFrame\n",
    "print(result_df)"
   ]
  },
  {
   "cell_type": "code",
   "execution_count": null,
   "id": "88ea61d6-d595-491d-9a2c-8eb3b3089b07",
   "metadata": {},
   "outputs": [],
   "source": [
    "# check the min count of time stamp of each patient and select obs_count and pred_count"
   ]
  },
  {
   "cell_type": "code",
   "execution_count": null,
   "id": "bc1ec2ff-92b0-49bf-bbf0-3dff778a5f35",
   "metadata": {},
   "outputs": [],
   "source": [
    "\n",
    "# result_df = pd.read_csv('/blue/bianjiang/leyang.sun/aggreg_data.csv')"
   ]
  },
  {
   "cell_type": "code",
   "execution_count": 12,
   "id": "a6f27b9b-7559-4e94-bc8e-e741c83bd8cb",
   "metadata": {},
   "outputs": [
    {
     "name": "stdout",
     "output_type": "stream",
     "text": [
      "                  deid_pat_ID  timestamp_count\n",
      "0      IRB202003281_PAT_10006                8\n",
      "1      IRB202003281_PAT_10010                1\n",
      "2      IRB202003281_PAT_10045                8\n",
      "3      IRB202003281_PAT_10055               14\n",
      "4      IRB202003281_PAT_10065               11\n",
      "...                       ...              ...\n",
      "10149   IRB202003281_PAT_9968               13\n",
      "10150   IRB202003281_PAT_9972               24\n",
      "10151   IRB202003281_PAT_9974               10\n",
      "10152   IRB202003281_PAT_9982                1\n",
      "10153   IRB202003281_PAT_9997               26\n",
      "\n",
      "[10154 rows x 2 columns]\n"
     ]
    }
   ],
   "source": [
    "# Group by 'deid_pat_ID' and count the timestamps\n",
    "timestamp_counts = result_df.groupby('deid_pat_ID')['timestamp'].count().reset_index()\n",
    "timestamp_counts.columns = ['deid_pat_ID', 'timestamp_count']\n",
    "\n",
    "# Display the result\n",
    "print(timestamp_counts)"
   ]
  },
  {
   "cell_type": "markdown",
   "id": "8e6837e3-b002-43ae-ad34-a44879dc4187",
   "metadata": {},
   "source": [
    "### filter the rows where 'timestamp_count' is greater than or equal to 3"
   ]
  },
  {
   "cell_type": "code",
   "execution_count": 13,
   "id": "9fe43a39-82ba-4d01-82aa-5e20952ea603",
   "metadata": {},
   "outputs": [
    {
     "name": "stdout",
     "output_type": "stream",
     "text": [
      "                 deid_pat_ID  timestamp_count\n",
      "9281  IRB202003281_PAT_82110                1\n",
      "5435   IRB202003281_PAT_4780                1\n",
      "9172  IRB202003281_PAT_80507                1\n",
      "1038  IRB202003281_PAT_14766                1\n",
      "5441  IRB202003281_PAT_47845                1\n",
      "...                      ...              ...\n",
      "8345  IRB202003281_PAT_72207               41\n",
      "2414  IRB202003281_PAT_23729               41\n",
      "4873  IRB202003281_PAT_43544               42\n",
      "8382  IRB202003281_PAT_72514               42\n",
      "1326  IRB202003281_PAT_16550               42\n",
      "\n",
      "[10154 rows x 2 columns]\n"
     ]
    }
   ],
   "source": [
    "merged_df = result_df.merge(timestamp_counts, on='deid_pat_ID', how='left')\n",
    "\n",
    "# Then, filter the rows where 'timestamp_count' is greater than or equal to 3\n",
    "filtered_df = merged_df[merged_df['timestamp_count'] >= 3]\n",
    "\n",
    "# Drop the 'timestamp_count' column if you no longer need it\n",
    "filtered_df = filtered_df.drop('timestamp_count', axis=1)"
   ]
  },
  {
   "cell_type": "code",
   "execution_count": 17,
   "id": "595bd838-0c6b-4f0a-86ed-84bef048e242",
   "metadata": {
    "tags": []
   },
   "outputs": [
    {
     "name": "stdout",
     "output_type": "stream",
     "text": [
      "                  deid_pat_ID  timestamp  Index_age  BP_Diastolic  \\\n",
      "3      IRB202003281_PAT_10045          1       50.0           NaN   \n",
      "4      IRB202003281_PAT_10045          2       50.0           NaN   \n",
      "5      IRB202003281_PAT_10045          3       50.0           NaN   \n",
      "6      IRB202003281_PAT_10045          4       50.0           NaN   \n",
      "7      IRB202003281_PAT_10045          6       50.0           NaN   \n",
      "...                       ...        ...        ...           ...   \n",
      "72512   IRB202003281_PAT_9997         21       47.0          70.0   \n",
      "72513   IRB202003281_PAT_9997         23       47.0          70.0   \n",
      "72514   IRB202003281_PAT_9997         24       47.0          70.0   \n",
      "72515   IRB202003281_PAT_9997         25       47.0          70.0   \n",
      "72516   IRB202003281_PAT_9997         26       47.0          70.0   \n",
      "\n",
      "       Triglycerides   HDL    BMI    GFR    LDL  med_Metformin  ...  \\\n",
      "3              204.0  32.0  40.73  114.0   69.0            NaN  ...   \n",
      "4              204.0  32.0  40.73  114.0   69.0            NaN  ...   \n",
      "5              204.0  32.0  40.73  114.0   69.0            NaN  ...   \n",
      "6              113.0  36.0  40.73  113.0  134.0            NaN  ...   \n",
      "7              174.0  31.0  40.73  124.0  144.0            NaN  ...   \n",
      "...              ...   ...    ...    ...    ...            ...  ...   \n",
      "72512          116.2  43.2  29.99   59.0   74.8       367852.0  ...   \n",
      "72513          105.0  52.0  32.50   59.0   98.0       367852.0  ...   \n",
      "72514           93.0  35.0  32.50   59.0   54.0       367852.0  ...   \n",
      "72515           93.0  35.0  29.29   59.0   54.0       367852.0  ...   \n",
      "72516           81.0  55.0  29.29  114.0   88.0       367852.0  ...   \n",
      "\n",
      "       comp_Ketoacidosis  comp_Neuropathy  comp_Stroke  \\\n",
      "3                    1.0              1.0          1.0   \n",
      "4                    1.0              1.0          1.0   \n",
      "5                    1.0              1.0          1.0   \n",
      "6                    1.0              1.0          1.0   \n",
      "7                    1.0              1.0          1.0   \n",
      "...                  ...              ...          ...   \n",
      "72512                1.0              1.0          1.0   \n",
      "72513                1.0              1.0          1.0   \n",
      "72514                1.0              1.0          1.0   \n",
      "72515                1.0              1.0          1.0   \n",
      "72516                1.0              1.0          1.0   \n",
      "\n",
      "       comp_Secondary_diabetes  comp_Atrial_fibrillation  \\\n",
      "3                          1.0                       1.0   \n",
      "4                          1.0                       1.0   \n",
      "5                          1.0                       1.0   \n",
      "6                          1.0                       1.0   \n",
      "7                          1.0                       1.0   \n",
      "...                        ...                       ...   \n",
      "72512                      1.0                       1.0   \n",
      "72513                      1.0                       1.0   \n",
      "72514                      1.0                       1.0   \n",
      "72515                      1.0                       1.0   \n",
      "72516                      1.0                       1.0   \n",
      "\n",
      "       comp_Chronic_kidney_disease  comp_Peripheral_vascular_disease  \\\n",
      "3                              1.0                               1.0   \n",
      "4                              1.0                               1.0   \n",
      "5                              1.0                               1.0   \n",
      "6                              1.0                               1.0   \n",
      "7                              1.0                               1.0   \n",
      "...                            ...                               ...   \n",
      "72512                          1.0                               1.0   \n",
      "72513                          1.0                               1.0   \n",
      "72514                          1.0                               1.0   \n",
      "72515                          1.0                               1.0   \n",
      "72516                          1.0                               1.0   \n",
      "\n",
      "       comp_Gestational_diabetes  comp_Nephropathy  comp_Retinopathy  \n",
      "3                            1.0               1.0               1.0  \n",
      "4                            1.0               1.0               1.0  \n",
      "5                            1.0               1.0               1.0  \n",
      "6                            1.0               1.0               1.0  \n",
      "7                            1.0               1.0               1.0  \n",
      "...                          ...               ...               ...  \n",
      "72512                        1.0               1.0               1.0  \n",
      "72513                        1.0               1.0               1.0  \n",
      "72514                        1.0               1.0               1.0  \n",
      "72515                        1.0               1.0               1.0  \n",
      "72516                        1.0               1.0               1.0  \n",
      "\n",
      "[69176 rows x 56 columns]\n"
     ]
    }
   ],
   "source": [
    "print(filtered_df)"
   ]
  },
  {
   "cell_type": "code",
   "execution_count": 23,
   "id": "1442d3f2-38a1-47b7-affb-9e0792b09464",
   "metadata": {
    "tags": []
   },
   "outputs": [
    {
     "name": "stdout",
     "output_type": "stream",
     "text": [
      "[0.         1.         0.5        0.33333333 0.75       0.00115607\n",
      " 0.125      0.25       0.81818182 0.96       0.66666667 0.97297297\n",
      " 0.02702703 0.8        0.1        0.375      0.07142857 0.99082569]\n"
     ]
    }
   ],
   "source": [
    "print(filtered_df[\"comp_Retinopathy\"].unique())"
   ]
  },
  {
   "cell_type": "code",
   "execution_count": 16,
   "id": "a484d6c8-8fac-4275-9561-931611024bd2",
   "metadata": {
    "tags": []
   },
   "outputs": [
    {
     "name": "stdout",
     "output_type": "stream",
     "text": [
      "                 deid_pat_ID  timestamp_count\n",
      "8196  IRB202003281_PAT_86176                3\n",
      "4605  IRB202003281_PAT_48457                3\n",
      "7072  IRB202003281_PAT_71604                3\n",
      "7745   IRB202003281_PAT_7875                3\n",
      "220   IRB202003281_PAT_11221                3\n",
      "...                      ...              ...\n",
      "5865  IRB202003281_PAT_60506               41\n",
      "2826  IRB202003281_PAT_32370               41\n",
      "7168  IRB202003281_PAT_72514               42\n",
      "990   IRB202003281_PAT_16550               42\n",
      "4052  IRB202003281_PAT_43544               42\n",
      "\n",
      "[8726 rows x 2 columns]\n"
     ]
    }
   ],
   "source": [
    "# count the total timestamp_count for each patient and print the sorted df from min to max\n",
    "filtered_timestamp_counts = filtered_df.groupby('deid_pat_ID')['timestamp'].count().reset_index()\n",
    "filtered_timestamp_counts.columns = ['deid_pat_ID', 'timestamp_count']\n",
    "filtered_timestamp_counts_sorted = filtered_timestamp_counts.sort_values(by='timestamp_count', ascending=True)\n",
    "\n",
    "# Display the sorted DataFrame\n",
    "print(filtered_timestamp_counts_sorted)"
   ]
  },
  {
   "cell_type": "markdown",
   "id": "e6262e01-3a79-4272-9c28-cf4e00367ab2",
   "metadata": {},
   "source": [
    "### Interpolation: 1. in groups; 2. by col median"
   ]
  },
  {
   "cell_type": "code",
   "execution_count": 17,
   "id": "d2b696e4-0f32-4cd1-9f02-7b7f9ce9221f",
   "metadata": {
    "tags": []
   },
   "outputs": [],
   "source": [
    "# Sort the DataFrame by 'Patient_ID' and 'time'\n",
    "filtered_df_sorted = filtered_df.sort_values(by=['deid_pat_ID', 'timestamp'])\n",
    "filtered_df_sorted = filtered_df.reset_index(drop=True)\n",
    "filtered_df_grouped = filtered_df_sorted.groupby(\"deid_pat_ID\")\n",
    "\n",
    "# Apply interpolation within each patient's group\n",
    "filtered_df_interpolated = filtered_df_grouped.apply(lambda group: group.interpolate())\n",
    "filtered_df_interpolated = filtered_df_interpolated.reset_index(drop=True)"
   ]
  },
  {
   "cell_type": "code",
   "execution_count": 18,
   "id": "8f3cd658-bcb4-4350-8d0e-0eaf47310bb9",
   "metadata": {
    "tags": []
   },
   "outputs": [],
   "source": [
    "for column in cont_cols:\n",
    "    median = filtered_df_interpolated[column].median()\n",
    "    filtered_df_interpolated[column].fillna(median, inplace=True)"
   ]
  },
  {
   "cell_type": "code",
   "execution_count": 19,
   "id": "16d11e1b-ff46-4375-a090-d373f60d1f07",
   "metadata": {
    "tags": []
   },
   "outputs": [
    {
     "name": "stdout",
     "output_type": "stream",
     "text": [
      "                   deid_pat_ID  timestamp  Index_age  BP_Diastolic  \\\n",
      "0       IRB202003281_PAT_10006          1       48.0          79.0   \n",
      "1       IRB202003281_PAT_10006          2       48.0          79.0   \n",
      "2       IRB202003281_PAT_10006          3       48.0          79.0   \n",
      "3       IRB202003281_PAT_10006          4       48.0          79.0   \n",
      "4       IRB202003281_PAT_10006          5       48.0          79.0   \n",
      "...                        ...        ...        ...           ...   \n",
      "150513   IRB202003281_PAT_9997         22       47.0          70.0   \n",
      "150514   IRB202003281_PAT_9997         23       47.0          70.0   \n",
      "150515   IRB202003281_PAT_9997         24       47.0          70.0   \n",
      "150516   IRB202003281_PAT_9997         25       47.0          70.0   \n",
      "150517   IRB202003281_PAT_9997         26       47.0          70.0   \n",
      "\n",
      "        Triglycerides   HDL    BMI    GFR   LDL  med_Metformin  ...  \\\n",
      "0               308.0  46.0  38.92  102.0  94.0       367853.0  ...   \n",
      "1               308.0  46.0  38.92  102.0  94.0       367853.0  ...   \n",
      "2               308.0  46.0  38.92  102.0  94.0       367853.0  ...   \n",
      "3               308.0  46.0  38.92  102.0  94.0       367853.0  ...   \n",
      "4               308.0  46.0  38.92  102.0  94.0       367853.0  ...   \n",
      "...               ...   ...    ...    ...   ...            ...  ...   \n",
      "150513          116.2  43.2  29.99   59.0  74.8       367852.0  ...   \n",
      "150514          105.0  52.0  32.50   59.0  98.0       367852.0  ...   \n",
      "150515           93.0  35.0  32.50   59.0  54.0       367852.0  ...   \n",
      "150516           93.0  35.0  29.29   59.0  54.0       367852.0  ...   \n",
      "150517           81.0  55.0  29.29  114.0  88.0       367852.0  ...   \n",
      "\n",
      "        comp_Ketoacidosis  comp_Neuropathy  comp_Stroke  \\\n",
      "0                     0.0              0.0          0.0   \n",
      "1                     0.0              0.0          0.0   \n",
      "2                     0.0              0.0          0.0   \n",
      "3                     0.0              0.0          0.0   \n",
      "4                     0.0              0.0          0.0   \n",
      "...                   ...              ...          ...   \n",
      "150513                0.0              0.8          0.0   \n",
      "150514                0.0              0.0          0.0   \n",
      "150515                0.0              0.0          0.0   \n",
      "150516                0.0              0.0          0.0   \n",
      "150517                0.0              0.0          0.0   \n",
      "\n",
      "        comp_Secondary_diabetes  comp_Atrial_fibrillation  \\\n",
      "0                           0.0                       0.0   \n",
      "1                           0.0                       0.0   \n",
      "2                           0.0                       0.0   \n",
      "3                           0.0                       0.0   \n",
      "4                           0.0                       0.0   \n",
      "...                         ...                       ...   \n",
      "150513                      0.2                       0.0   \n",
      "150514                      0.0                       0.0   \n",
      "150515                      0.0                       0.0   \n",
      "150516                      0.0                       0.0   \n",
      "150517                      1.0                       0.0   \n",
      "\n",
      "        comp_Chronic_kidney_disease  comp_Peripheral_vascular_disease  \\\n",
      "0                               0.0                               0.0   \n",
      "1                               0.0                               0.0   \n",
      "2                               0.0                               0.0   \n",
      "3                               0.0                               0.0   \n",
      "4                               0.0                               0.0   \n",
      "...                             ...                               ...   \n",
      "150513                          0.0                               0.8   \n",
      "150514                          0.0                               0.0   \n",
      "150515                          0.0                               1.0   \n",
      "150516                          0.0                               0.0   \n",
      "150517                          0.0                               1.0   \n",
      "\n",
      "        comp_Gestational_diabetes  comp_Nephropathy  comp_Retinopathy  \n",
      "0                             0.0               0.0               0.0  \n",
      "1                             0.0               0.0               0.0  \n",
      "2                             0.0               0.0               0.0  \n",
      "3                             0.0               0.0               0.0  \n",
      "4                             0.0               0.0               0.0  \n",
      "...                           ...               ...               ...  \n",
      "150513                        0.0               0.0               0.0  \n",
      "150514                        0.0               0.0               0.0  \n",
      "150515                        0.0               0.0               0.0  \n",
      "150516                        0.0               0.0               0.0  \n",
      "150517                        0.0               0.0               0.0  \n",
      "\n",
      "[150518 rows x 57 columns]\n"
     ]
    }
   ],
   "source": [
    "print(filtered_df_interpolated)"
   ]
  },
  {
   "cell_type": "code",
   "execution_count": 24,
   "id": "17578b1f-edff-4244-be4f-1f1dde2fc027",
   "metadata": {
    "tags": []
   },
   "outputs": [],
   "source": [
    "filtered_df_interpolated.to_csv('/blue/bianjiang/leyang.sun/interp_aggreg_data.csv')"
   ]
  },
  {
   "cell_type": "code",
   "execution_count": 6,
   "id": "8ca8c5bd-ac13-4b04-829e-51c9d3895577",
   "metadata": {
    "tags": []
   },
   "outputs": [],
   "source": [
    "filtered_df_interpolated = pd.read_csv('/blue/bianjiang/leyang.sun/interp_aggreg_data.csv')"
   ]
  },
  {
   "cell_type": "code",
   "execution_count": null,
   "id": "5da0c680-7ff6-4b01-8ea5-336025af68e4",
   "metadata": {},
   "outputs": [],
   "source": [
    "#print(filtered_df_interpolated)"
   ]
  },
  {
   "cell_type": "code",
   "execution_count": 32,
   "id": "e50bd609-f7e3-4e61-877b-fee5968e43c7",
   "metadata": {
    "tags": []
   },
   "outputs": [
    {
     "name": "stdout",
     "output_type": "stream",
     "text": [
      "8726\n"
     ]
    }
   ],
   "source": [
    "# Extract the first five rows of each patient\n",
    "patients = filtered_df_interpolated['deid_pat_ID'].unique()\n",
    "print(len(patients))"
   ]
  },
  {
   "cell_type": "code",
   "execution_count": 35,
   "id": "aa0a5a1d-6e91-45b7-bc8b-06b8cbcaa759",
   "metadata": {
    "tags": []
   },
   "outputs": [],
   "source": [
    "train_cols = ['Index_age','BP_Diastolic', 'Triglycerides', 'HDL', \n",
    "             'BMI', 'GFR', 'LDL', 'med_Metformin', 'med_Thiazolidinedione', \n",
    "             'med_DPP4i', 'med_RAS', 'med_non_loops', 'med_Sulfonylurea', \n",
    "             'med_lipid', 'med_Loop', 'med_CCB', 'med_Beta_blockers',\n",
    "              'comp_Alcohol_use_disorder', 'comp_Pregnancy', 'comp_Angina_flag',\n",
    "            'comp_Blindness_and_vision_loss', 'comp_Congestive_heart_failure',\n",
    "            'comp_Depression', 'comp_Myocardial_Infarction_MI', 'comp_Cardiac_revascularization',\n",
    "            'comp_History_of_Myocardial_Infarction', 'comp_Obesity',\n",
    "            'comp_Cerebrovascular_Disease', 'comp_Hypoglycemia', \n",
    "            'comp_Lower_extremity_amputation', 'comp_Hypertension',\n",
    "            'comp_Exercise_x', 'comp_Photocoagulation', 'comp_Exercise_y',\n",
    "            'comp_Foot_ulcer', 'comp_History_of_stroke', 'comp_Cancer', \n",
    "            'comp_Hypercholesterolaemia', 'comp_Visual_impairment', \n",
    "            'comp_End_Stage_Renal_Disease', 'comp_Cardiovascular_Disease', \n",
    "            'comp_Retinopathy_intravitreal_injections', 'comp_Drug_use_disorder', \n",
    "            'comp_Organ_transplant', 'comp_Ketoacidosis', 'comp_Neuropathy', \n",
    "            'comp_Stroke', 'comp_Secondary_diabetes', 'comp_Atrial_fibrillation', \n",
    "            'comp_Chronic_kidney_disease', 'comp_Peripheral_vascular_disease', \n",
    "            'comp_Gestational_diabetes', 'comp_Nephropathy', 'comp_Retinopathy']"
   ]
  },
  {
   "cell_type": "code",
   "execution_count": 69,
   "id": "5ee2c5ed-87f9-4bc5-b32b-5cfea7bfd990",
   "metadata": {
    "tags": []
   },
   "outputs": [],
   "source": [
    "\n",
    "X_train_0 = np.empty((0, len(train_cols)), int) # Initialize an empty NumPy array\n",
    "X_test_0 = np.empty((0, len(train_cols)), int) # Initialize an empty NumPy array\n",
    "\n",
    "for patient in patients:\n",
    "    patient_train_data = filtered_df_interpolated[filtered_df_interpolated['deid_pat_ID'] == patient].head(2)[train_cols].to_numpy()\n",
    "    patient_test_data = filtered_df_interpolated[filtered_df_interpolated['deid_pat_ID'] == patient].iloc[2][train_cols].to_numpy()\n",
    "    \n",
    "    X_train_0 = np.vstack((X_train_0, patient_train_data))\n",
    "    X_test_0 = np.vstack((X_test_0, patient_test_data))"
   ]
  },
  {
   "cell_type": "code",
   "execution_count": 70,
   "id": "05f050fa-dbe3-4939-a51f-e89095f8e508",
   "metadata": {
    "tags": []
   },
   "outputs": [
    {
     "name": "stdout",
     "output_type": "stream",
     "text": [
      "(17452, 54) (8726, 54)\n"
     ]
    }
   ],
   "source": [
    "\n",
    "# Print the resulting NumPy array\n",
    "print(X_train_0.shape, X_test_0.shape)\n",
    "# 8726*2 = 17452"
   ]
  },
  {
   "cell_type": "code",
   "execution_count": 5,
   "id": "f30d80f4-3cba-4042-ba99-cb760370196b",
   "metadata": {
    "tags": []
   },
   "outputs": [],
   "source": [
    "import pickle\n",
    "# Specify the file path where you want to save the array\n",
    "X_train_0_path = \"X_train_0.npy\"\n",
    "X_test_0_path = \"X_test_0.npy\"\n",
    "X_train_0 = np.load(X_train_0_path, allow_pickle=True)\n",
    "X_test_0 = np.load(X_test_0_path, allow_pickle=True)\n",
    "# Save the array to the file\n",
    "#np.save(X_train_0_path, X_train_0)\n",
    "#np.save(X_test_0_path, X_test_0)"
   ]
  },
  {
   "cell_type": "code",
   "execution_count": 81,
   "id": "f79a6423-e51f-4a26-b8aa-fb7de4b6f4e2",
   "metadata": {},
   "outputs": [],
   "source": [
    "X_train_1 = np.empty((0, 1), dtype=int)\n",
    "X_test_1 = np.empty((0, 1), dtype=int)\n",
    "\n",
    "\n",
    "for patient in patients:\n",
    "    # Filter the DataFrame for the current patient\n",
    "    patient_train_data1 = filtered_df_interpolated[filtered_df_interpolated['deid_pat_ID'] == patient]['timestamp'].iloc[0:2].values\n",
    "    X_train_1 = np.vstack((X_train_1, patient_train_data1.reshape(-1, 1)))\n",
    "    patient_test_data1 = filtered_df_interpolated[filtered_df_interpolated['deid_pat_ID'] == patient]['timestamp'].iloc[2]\n",
    "    X_test_1 = np.vstack((X_test_1, patient_test_data1.reshape(-1, 1)))"
   ]
  },
  {
   "cell_type": "code",
   "execution_count": 6,
   "id": "33301d6c-5db5-40f2-851d-e8fd9314688a",
   "metadata": {
    "tags": []
   },
   "outputs": [
    {
     "name": "stdout",
     "output_type": "stream",
     "text": [
      "(17452, 54) (8726, 54)\n"
     ]
    }
   ],
   "source": [
    "print(X_train_0.shape,X_test_0.shape)"
   ]
  },
  {
   "cell_type": "code",
   "execution_count": 7,
   "id": "818fcccb-5085-4b48-b83a-93480859d033",
   "metadata": {
    "tags": []
   },
   "outputs": [],
   "source": [
    "# Specify the file path where you want to save the array\n",
    "X_train_1_path = \"X_train_1.npy\"\n",
    "X_test_1_path = \"X_test_1.npy\"\n",
    "X_train_1 = np.load(X_train_1_path, allow_pickle=True)\n",
    "X_test_1 = np.load(X_test_1_path, allow_pickle=True)\n",
    "# Save the array to the file\n",
    "#np.save(X_train_1_path, X_train_1)\n",
    "#np.save(X_test_1_path, X_test_1)"
   ]
  },
  {
   "cell_type": "code",
   "execution_count": 84,
   "id": "eea7d9af-e0b0-4de0-a936-88f267021784",
   "metadata": {
    "tags": []
   },
   "outputs": [],
   "source": [
    "y_train = np.empty((0, 1), dtype=int)\n",
    "y_test = np.empty((0, 1), dtype=int)\n",
    "\n",
    "\n",
    "for patient in patients:\n",
    "    # Filter the DataFrame for the current patient\n",
    "    patient_train_data = filtered_df_interpolated[filtered_df_interpolated['deid_pat_ID'] == patient]['HbA1c'].iloc[0:2].values\n",
    "    y_train = np.vstack((y_train, patient_train_data.reshape(-1, 1)))\n",
    "    patient_test_data = filtered_df_interpolated[filtered_df_interpolated['deid_pat_ID'] == patient]['HbA1c'].iloc[2]\n",
    "    y_test = np.vstack((y_test, patient_test_data.reshape(-1, 1)))"
   ]
  },
  {
   "cell_type": "code",
   "execution_count": 85,
   "id": "fca18f84-9dcd-40ff-a536-e84b447ebb6b",
   "metadata": {
    "tags": []
   },
   "outputs": [
    {
     "name": "stdout",
     "output_type": "stream",
     "text": [
      "(17452, 1) (8726, 1)\n"
     ]
    }
   ],
   "source": [
    "print(y_train.shape,y_test.shape)"
   ]
  },
  {
   "cell_type": "code",
   "execution_count": 8,
   "id": "f26ee3b5-1401-4b56-a321-bbf9c8384490",
   "metadata": {
    "tags": []
   },
   "outputs": [],
   "source": [
    "# Specify the file path where you want to save the array\n",
    "y_train_path = \"y_train.npy\"\n",
    "y_test_path = \"y_test.npy\"\n",
    "y_train = np.load(y_train_path)\n",
    "y_test = np.load(y_test_path)\n",
    "# Save the array to the file\n",
    "#np.save(y_train_path, y_train)\n",
    "#np.save(y_test_path, y_test)"
   ]
  },
  {
   "cell_type": "code",
   "execution_count": 10,
   "id": "4b83cede-f4f6-40ab-9dd3-9a0d6e1e0e3b",
   "metadata": {
    "tags": []
   },
   "outputs": [
    {
     "name": "stdout",
     "output_type": "stream",
     "text": [
      "[[ 6.7]\n",
      " [ 6.1]\n",
      " [ 5.9]\n",
      " ...\n",
      " [ 5.6]\n",
      " [ 6.4]\n",
      " [10.7]]\n"
     ]
    }
   ],
   "source": [
    "print(y_test)"
   ]
  },
  {
   "cell_type": "markdown",
   "id": "6a065059-f384-400c-8653-0be8e39572f7",
   "metadata": {},
   "source": [
    "# 2.  check the total encounter of each patient\n",
    "\n",
    "## don't remove (for now) the patients whose total encounter <10 in  df_t2d_ehr (from merge_raw_1) & df_encdate (from subset_identification_serena_patid_v7_index_ini) & df_index_date\n"
   ]
  },
  {
   "cell_type": "code",
   "execution_count": null,
   "id": "933e9c85-964f-45a5-9176-d8b35d5776d6",
   "metadata": {
    "tags": []
   },
   "outputs": [],
   "source": [
    "visit_counts = df_t2d_ehr_with_h1.groupby('deid_pat_ID')['deid_enc_ID'].count()\n",
    "\n",
    "# Find the minimum number of visits among all patients\n",
    "min_visits = visit_counts.min()\n",
    "\n",
    "print(\"Minimum number of visits among all patients:\", min_visits)"
   ]
  },
  {
   "cell_type": "code",
   "execution_count": null,
   "id": "638f2684-2b41-42ca-ae18-f89ff0de4e95",
   "metadata": {
    "tags": []
   },
   "outputs": [],
   "source": [
    "visit_counts_df = visit_counts.to_frame()\n",
    "print(visit_counts_df.sort_values(by = 'deid_enc_ID').head(20))"
   ]
  },
  {
   "cell_type": "code",
   "execution_count": null,
   "id": "5d634eca-c3ca-4228-ac49-3e00ff4d128f",
   "metadata": {},
   "outputs": [],
   "source": [
    "#  remove the patients whose total encounter <10 in  df_t2d_ehr (from merge_raw_1) & df_encdate (from subset_identification_serena_patid_v7_index_ini) & df_index_date\n",
    "'''\n",
    "exclude_values = [\n",
    "    \"IRB202003281_PAT_10790\",\n",
    "    \"IRB202003281_PAT_113588\",\n",
    "    \"IRB202003281_PAT_114955\",\n",
    "    \"IRB202003281_PAT_141362\",\n",
    "    \"IRB202003281_PAT_28192\",\n",
    "    \"IRB202003281_PAT_146505\",\n",
    "    \"IRB202003281_PAT_119587\"\n",
    "]\n",
    "\n",
    "condition1 = df_t2d_ehr['deid_pat_ID'].isin(exclude_values)\n",
    "condition2 = df_encdate['deid_pat_ID'].isin(exclude_values)\n",
    "condition3 = df_index_date['deid_pat_ID'].isin(exclude_values)\n",
    "df_t2d_ehr = df_t2d_ehr[~condition1]\n",
    "df_encdate = df_encdate[~condition2]\n",
    "df_index_date = df_index_date[~condition3]\n",
    "'''"
   ]
  },
  {
   "cell_type": "markdown",
   "id": "d06b16ef-8215-480f-b838-4e0ce6ab6368",
   "metadata": {
    "tags": []
   },
   "source": [
    "# 3. calculate the encounters_before_start_date and encounters_after_start_date"
   ]
  },
  {
   "cell_type": "code",
   "execution_count": null,
   "id": "f888704b-31b2-4d8c-a0b8-918995c689ee",
   "metadata": {
    "tags": []
   },
   "outputs": [],
   "source": [
    "# Merge the two DataFrames on 'patient_id'\n",
    "merged_df = df_encdate.merge(df_index_date, on='deid_pat_ID', how='left')\n",
    "print(merged_df)"
   ]
  },
  {
   "cell_type": "code",
   "execution_count": null,
   "id": "6973c483-0b10-40f3-816d-a40f6ecfb184",
   "metadata": {
    "tags": []
   },
   "outputs": [],
   "source": [
    "\n",
    "# Calculate the difference between 'encounter_date' and 'start_date'\n",
    "merged_df['date_difference'] = merged_df['START_DATE'] - merged_df['index_date']\n",
    "\n",
    "# Count the number of encounters before and after the disease start date\n",
    "before_start_date = merged_df[merged_df['date_difference'] < pd.Timedelta(0)]\n",
    "after_start_date = merged_df[merged_df['date_difference'] >= pd.Timedelta(0)]\n",
    "\n",
    "# Group by 'patient_id' and count the encounters\n",
    "before_count = before_start_date.groupby('deid_pat_ID').size().reset_index(name='encounters_before_start_date')\n",
    "after_count = after_start_date.groupby('deid_pat_ID').size().reset_index(name='encounters_after_start_date')\n",
    "\n",
    "# Merge the counts into a final DataFrame\n",
    "window_count = df_index_date.merge(before_count, on='deid_pat_ID', how='left').merge(after_count, on='deid_pat_ID', how='left')\n",
    "\n",
    "# Fill NaN values with 0 (patients with no encounters before/after)\n",
    "window_count.fillna(0, inplace=True)\n",
    "\n",
    "print(window_count) # all the counts of encounters_before_start_date and encounters_after_start_date for each patient\n"
   ]
  },
  {
   "cell_type": "code",
   "execution_count": null,
   "id": "aae369e0-f9a9-460b-bf68-5a2109cc7afb",
   "metadata": {
    "tags": []
   },
   "outputs": [],
   "source": []
  },
  {
   "cell_type": "markdown",
   "id": "60d20576-bfb1-4afc-aef5-a863ad45aee4",
   "metadata": {},
   "source": [
    "# 4.  in 3 dfs and re-run calculation"
   ]
  },
  {
   "cell_type": "code",
   "execution_count": null,
   "id": "20bcbea9-ae73-4fa7-abdc-af3100eb24a0",
   "metadata": {
    "tags": []
   },
   "outputs": [],
   "source": [
    "'''\n",
    "# get the smallest number of column: encounters_before_start_date and column: encounters_after_start_date\n",
    "print(non_zero_rows_df['encounters_before_start_date'].min())\n",
    "print(non_zero_rows_df['encounters_after_start_date'].min())\n",
    "'''"
   ]
  },
  {
   "cell_type": "code",
   "execution_count": null,
   "id": "717a7a75-ce6f-4b8f-a41a-1e7ff2be715b",
   "metadata": {
    "tags": []
   },
   "outputs": [],
   "source": [
    "'''\n",
    "print(non_zero_rows_df.sort_values(by = 'encounters_before_start_date').head(20))\n",
    "'''"
   ]
  },
  {
   "cell_type": "code",
   "execution_count": null,
   "id": "43543a53-f37d-40c4-873c-36da4390705e",
   "metadata": {
    "tags": []
   },
   "outputs": [],
   "source": [
    "filtered_ids = window_count[\n",
    "    (window_count['encounters_before_start_date'] >= 3) &\n",
    "    (window_count['encounters_after_start_date'] >= 0)]['deid_pat_ID']\n",
    "print(filtered_ids)\n",
    "\n",
    "# Filter rows in df_t2d_ehr based on the filtered_ids\n",
    "df_t2d_ehr_filtered = df_t2d_ehr_with_h1[df_t2d_ehr_with_h1['deid_pat_ID'].isin(filtered_ids)]\n",
    "df_encdate_filtered = df_encdate[df_encdate['deid_pat_ID'].isin(filtered_ids)]\n",
    "df_index_date_filtered = df_index_date[df_index_date['deid_pat_ID'].isin(filtered_ids)]\n"
   ]
  },
  {
   "cell_type": "code",
   "execution_count": null,
   "id": "da63cf40-f6fe-407b-aace-9d07fdd27099",
   "metadata": {
    "tags": []
   },
   "outputs": [],
   "source": [
    "print(df_t2d_ehr_filtered)"
   ]
  },
  {
   "cell_type": "code",
   "execution_count": null,
   "id": "3676b901-7627-45bc-b937-ed298f83007a",
   "metadata": {
    "tags": []
   },
   "outputs": [],
   "source": [
    "print(df_index_date_filtered)"
   ]
  },
  {
   "cell_type": "markdown",
   "id": "2e074399-b9b7-4cf0-a829-7aeb34a76410",
   "metadata": {},
   "source": [
    "## recount the statistics"
   ]
  },
  {
   "cell_type": "code",
   "execution_count": null,
   "id": "d397d2fa-cfe1-4724-afc1-eddc2da59910",
   "metadata": {
    "tags": []
   },
   "outputs": [],
   "source": [
    "merged_df_filtered = df_encdate_filtered.merge(df_index_date, on='deid_pat_ID', how='left')\n",
    "# Calculate the difference between 'encounter_date' and 'start_date'\n",
    "merged_df_filtered['date_difference'] = merged_df_filtered['START_DATE'] - merged_df_filtered['index_date']"
   ]
  },
  {
   "cell_type": "code",
   "execution_count": null,
   "id": "907b8643-c958-430c-b532-22dffe0a7248",
   "metadata": {
    "tags": []
   },
   "outputs": [],
   "source": [
    "print(merged_df_filtered)"
   ]
  },
  {
   "cell_type": "code",
   "execution_count": null,
   "id": "113b0d42-fc6c-4cd5-9be6-46fcd37f029d",
   "metadata": {
    "tags": []
   },
   "outputs": [],
   "source": [
    "\n",
    "# Count the number of encounters before and after the disease start date\n",
    "before_start_date_filtered = merged_df_filtered[merged_df_filtered['date_difference'] < pd.Timedelta(0)]\n",
    "after_start_date_filtered = merged_df_filtered[merged_df_filtered['date_difference'] >= pd.Timedelta(0)]\n",
    "\n",
    "# Group by 'patient_id' and count the encounters\n",
    "before_count_filtered = before_start_date_filtered.groupby('deid_pat_ID').size().reset_index(name='encounters_before_start_date')\n",
    "after_count_filtered = after_start_date_filtered.groupby('deid_pat_ID').size().reset_index(name='encounters_after_start_date')\n",
    "\n",
    "# Merge the counts into a final DataFrame\n",
    "window_count_filtered = df_index_date_filtered.merge(before_count_filtered, on='deid_pat_ID', how='left').merge(after_count_filtered, on='deid_pat_ID', how='left')\n",
    "\n",
    "# Fill NaN values with 0 (patients with no encounters before/after)\n",
    "window_count_filtered.fillna(0, inplace=True)"
   ]
  },
  {
   "cell_type": "code",
   "execution_count": null,
   "id": "5663ee5d-e42d-4c8b-8326-4337b6d6ef49",
   "metadata": {
    "tags": []
   },
   "outputs": [],
   "source": [
    "print(window_count_filtered) # the patients in non_zero_rows_df have both encounters in the observation and prediction window: 11563 patients\n"
   ]
  },
  {
   "cell_type": "code",
   "execution_count": null,
   "id": "5a44e3d9-e80f-442d-b8d9-44e09e0acf97",
   "metadata": {
    "tags": []
   },
   "outputs": [],
   "source": [
    "print(window_count_filtered.sort_values(by = 'encounters_before_start_date').head(20))\n",
    "\n",
    "print(window_count_filtered.sort_values(by = 'encounters_after_start_date').head(20))\n"
   ]
  },
  {
   "cell_type": "markdown",
   "id": "01fd40d0-f7fc-4059-9f52-76636af2a116",
   "metadata": {},
   "source": [
    "# 5. select first 5 windows of observations and 2 windows of predictions"
   ]
  },
  {
   "cell_type": "markdown",
   "id": "7ee91140-65d9-4e75-bf3b-6a8e47fae7d2",
   "metadata": {},
   "source": [
    "## convert date to time stamp"
   ]
  },
  {
   "cell_type": "code",
   "execution_count": null,
   "id": "684cd94f-291b-4682-b521-90b99e4b950a",
   "metadata": {
    "tags": []
   },
   "outputs": [],
   "source": [
    "df_t2d_ehr_filtered['START_DATE'] = pd.to_datetime(df_t2d_ehr_filtered['START_DATE'])\n",
    "grouped = df_t2d_ehr_filtered.groupby('deid_pat_ID')\n",
    "\n",
    "print(grouped)"
   ]
  },
  {
   "cell_type": "code",
   "execution_count": null,
   "id": "2c279c0d-8e01-4636-aa56-516738c6b4e7",
   "metadata": {
    "tags": []
   },
   "outputs": [],
   "source": [
    "min_start_dates = grouped['START_DATE'].min()\n",
    "\n",
    "# Convert the result to a dictionary\n",
    "smallest_start_dates_dict = min_start_dates.to_dict()\n",
    "\n",
    "# The resulting dictionary will have patients as keys and their smallest 'START_DATE' as values\n",
    "# print(smallest_start_dates_dict)"
   ]
  },
  {
   "cell_type": "code",
   "execution_count": null,
   "id": "aababb5a-5676-4756-a494-7b0a16a8fd09",
   "metadata": {},
   "outputs": [],
   "source": [
    "\n",
    "# Define a function to compute date differences\n",
    "def compute_date_difference(row):\n",
    "    pid = row['deid_pat_ID']\n",
    "    if pid in smallest_start_dates_dict:\n",
    "        mapped_date = pd.to_datetime(smallest_start_dates_dict[pid])\n",
    "        date_difference = (row['START_DATE'] - mapped_date).days\n",
    "        return date_difference\n",
    "    else:\n",
    "        return None  # Return None if pid is not found in map_dic\n",
    "\n",
    "# Use apply to create the 'value' column efficiently\n",
    "df_t2d_ehr_filtered['timestamp'] = df_t2d_ehr_filtered.apply(compute_date_difference, axis=1)\n",
    "\n",
    "# Display the updated DataFrame\n",
    "print(df_t2d_ehr_filtered)\n"
   ]
  },
  {
   "cell_type": "code",
   "execution_count": null,
   "id": "b84c8595-8b47-4e85-a51e-b8a104a182c6",
   "metadata": {
    "tags": []
   },
   "outputs": [],
   "source": [
    "'''\n",
    "# Calculate the numerical timestamp relative to each patient's own start date\n",
    "date_t = grouped['START_DATE'].apply(lambda x: (x - x.min()).dt.days).reset_index().drop(columns='level_1')\n",
    "\n",
    "print(date_t.head(20))\n",
    "'''"
   ]
  },
  {
   "cell_type": "code",
   "execution_count": null,
   "id": "519d605b-bc26-4593-903b-c2b55c08b712",
   "metadata": {},
   "outputs": [],
   "source": [
    "'''\n",
    "df_t2d_ehr_filtered['time'] = date_t['START_DATE']\n",
    "\n",
    "print(df_t2d_ehr_filtered)\n",
    "'''"
   ]
  },
  {
   "cell_type": "code",
   "execution_count": null,
   "id": "d9ec3487-f11b-4267-a5bf-ad7e94209e6a",
   "metadata": {},
   "outputs": [],
   "source": [
    "# Sort the DataFrame by 'Patient_ID' and 'time'\n",
    "df_t2d_ehr_sorted = df_t2d_ehr_filtered.sort_values(by=['deid_pat_ID', 'timestamp'])\n",
    "df_t2d_ehr_sorted = df_t2d_ehr_filtered.reset_index(drop=True)\n",
    "grouped = df_t2d_ehr_sorted.groupby(\"deid_pat_ID\")\n",
    "\n",
    "# Apply interpolation within each patient's group\n",
    "df_interpolated = grouped.apply(lambda group: group.interpolate())\n",
    "df_interpolated = df_interpolated.reset_index(drop=True)\n",
    "# print(df_interpolated['GFR'].isna().sum())"
   ]
  },
  {
   "cell_type": "code",
   "execution_count": null,
   "id": "52ef14ff-a5cb-4e4e-ab15-f7625dfdacf2",
   "metadata": {
    "tags": []
   },
   "outputs": [],
   "source": [
    "print(df_interpolated['GFR'].isna().sum())"
   ]
  },
  {
   "cell_type": "code",
   "execution_count": null,
   "id": "b669dbef-5ff7-4274-9013-5ccbcac83f5e",
   "metadata": {
    "tags": []
   },
   "outputs": [],
   "source": [
    "column_names = df_interpolated.columns.tolist()\n",
    "\n",
    "# Print the list of column names\n",
    "print(column_names)"
   ]
  },
  {
   "cell_type": "code",
   "execution_count": null,
   "id": "d84ab519-5565-4303-92a4-e59ede4c3d73",
   "metadata": {
    "tags": []
   },
   "outputs": [],
   "source": [
    "# 'SEX_CD', 'RACE_CD'\n",
    "cont_cols = ['Index_age','BP_Diastolic', 'Triglycerides', 'HDL', \n",
    "             'BMI', 'GFR', 'LDL', 'med_Metformin', 'med_Thiazolidinedione', \n",
    "             'med_DPP4i', 'med_RAS', 'med_non_loops', 'med_Sulfonylurea', \n",
    "             'med_lipid', 'med_Loop', 'med_CCB', 'med_Beta_blockers']\n",
    "disc_cols = ['comp_Alcohol_use_disorder', 'comp_Pregnancy', 'comp_Angina_flag',\n",
    "            'comp_Blindness_and_vision_loss', 'comp_Congestive_heart_failure',\n",
    "            'comp_Depression', 'comp_Myocardial_Infarction_MI', 'comp_Cardiac_revascularization',\n",
    "            'comp_History_of_Myocardial_Infarction', 'comp_Obesity',\n",
    "            'comp_Cerebrovascular_Disease', 'comp_Hypoglycemia', \n",
    "            'comp_Lower_extremity_amputation', 'comp_Hypertension',\n",
    "            'comp_Exercise_x', 'comp_Photocoagulation', 'comp_Exercise_y',\n",
    "            'comp_Foot_ulcer', 'comp_History_of_stroke', 'comp_Cancer', \n",
    "            'comp_Hypercholesterolaemia', 'comp_Visual_impairment', \n",
    "            'comp_End_Stage_Renal_Disease', 'comp_Cardiovascular_Disease', \n",
    "            'comp_Retinopathy_intravitreal_injections', 'comp_Drug_use_disorder', \n",
    "            'comp_Organ_transplant', 'comp_Ketoacidosis', 'comp_Neuropathy', \n",
    "            'comp_Stroke', 'comp_Secondary_diabetes', 'comp_Atrial_fibrillation', \n",
    "            'comp_Chronic_kidney_disease', 'comp_Peripheral_vascular_disease', \n",
    "            'comp_Gestational_diabetes', 'comp_Nephropathy', 'comp_Retinopathy']\n",
    "total_col= cont_cols + disc_cols\n",
    "\n",
    "print(len(cont_cols),len(total_col))"
   ]
  },
  {
   "cell_type": "code",
   "execution_count": null,
   "id": "0fb73fc9-a869-4232-b38c-3cc8dba43949",
   "metadata": {
    "tags": []
   },
   "outputs": [],
   "source": [
    "'''\n",
    "cont_cols = ['GFR', 'HDL', 'LDL', 'Triglycerides', 'BP_Diastolic','AVG_VAC', 'AVG_NOSTAT', 'P_VAC', 'P_VAC_3', 'P_VAC_3TO6', 'P_VAC_6TO12', 'P_VAC_12TO24', 'P_VAC_24TO36', 'P_VAC_36', 'P_PQV_IS', 'P_PQV_NOSTAT', 'P_NOSTAT', 'P_NS_3', 'P_NS_3TO6', 'P_NS_6TO12', 'P_NS_12TO24', 'P_NS_24TO36', 'P_NS_36', 'P_PQNS_IS', 'Pop', 'Urban', 'NUMGQTRS', 'PCTGQTRS', 'LowIncomeTracts', 'Hu',\n",
    "           'lahunv1', 'LAHUNV1_10', 'LAHUNV1_10share', 'lahunv10', 'lahunv10share', 'lahunv1share', 'lahunv20', 'lahunv20share', 'lahunvhalf', 'lahunvhalfshare', 'lakids1', 'LAKIDS1_10', 'LAKIDS1_10share', 'lakids10', 'lakids10share', 'lakids1share', 'lakids20', 'lakids20share', 'lakidshalf', 'lakidshalfshare', 'LALOWI05_10', 'LALOWI05_10share', 'lalowi1', 'LALOWI1_10',\n",
    "        'LALOWI1_10share', 'LALOWI1_20', 'LALOWI1_20share', 'lalowi10', 'lalowi10share', 'lalowi1share', 'lalowi20', 'lalowi20share', 'lalowihalf', 'lalowihalfshare', 'LAPOP05_10', 'LAPOP05_10share', 'lapop1', 'LAPOP1_10', 'LAPOP1_10share', 'LAPOP1_20', 'LAPOP1_20share', 'lapop10', 'lapop10share', 'lapop1share', 'lapop20', 'lapop20share', 'lapophalf', 'lapophalfshare',\n",
    "        'laseniors1', 'LASENIORS1_10', 'LASENIORS1_10share', 'laseniors10', 'laseniors10share', 'laseniors1share', 'laseniors20', 'laseniors20share', 'laseniorshalf', 'laseniorshalfshare', 'ndi', 'p_murder', 'p_fso', 'p_rob', 'p_assault', 'p_burglary', 'p_larceny', 'p_mvt', 'p_total', 'wi', 'r_religious', 'r_civic', 'r_business', 'r_political', 'r_professional', 'r_labor', \n",
    "        'r_bowling', 'r_recreational', 'r_golf', 'r_sports', 'Admit_age']\n",
    "disc_col = []\n",
    "total_col= cont_cols\n",
    "\n",
    "for item in disc_col:\n",
    "    total_col.append(item)\n",
    "\n",
    "print(len(cont_cols),len(total_col))\n",
    "'''"
   ]
  },
  {
   "cell_type": "code",
   "execution_count": null,
   "id": "bd6f83bf-531f-4dec-ac81-3c1b1e1b62f1",
   "metadata": {
    "tags": []
   },
   "outputs": [],
   "source": [
    "# For patients with na across all timepoints in each column, filled with median for continuous variable and mode for discrete variable\n",
    "for column in cont_cols:\n",
    "    median = df_interpolated[column].median()\n",
    "    df_interpolated[column].fillna(median, inplace=True)\n",
    "    \n",
    "for column in disc_cols:\n",
    "    df_interpolated[column].fillna(0, inplace=True)"
   ]
  },
  {
   "cell_type": "code",
   "execution_count": null,
   "id": "fc869b4c-76b3-4ce7-afdb-eaa5b10418d6",
   "metadata": {
    "tags": []
   },
   "outputs": [],
   "source": [
    "print(df_interpolated.head(200))"
   ]
  },
  {
   "cell_type": "code",
   "execution_count": null,
   "id": "32ea7d9f-e4a0-46a9-8740-996ebc2eabdd",
   "metadata": {
    "tags": []
   },
   "outputs": [],
   "source": [
    "df_interpolated.to_csv(\"/blue/bianjiang/leyang.sun/df_interpolated\")"
   ]
  },
  {
   "cell_type": "code",
   "execution_count": null,
   "id": "bc7bc55c-188e-4261-972d-fc7563a17fd5",
   "metadata": {
    "tags": []
   },
   "outputs": [],
   "source": [
    "print(df_index_date_filtered.head)"
   ]
  },
  {
   "cell_type": "markdown",
   "id": "c3c1af1d-a0bc-4f2c-b99f-7edc2a04f8a5",
   "metadata": {},
   "source": [
    "### method 2.0 to get the final index_data_df"
   ]
  },
  {
   "cell_type": "code",
   "execution_count": null,
   "id": "79012881-6de4-4c07-b97e-54b5be9523f6",
   "metadata": {
    "tags": []
   },
   "outputs": [],
   "source": [
    "\n",
    "import pandas as pd\n",
    "\n",
    "# Sample data for index_df and encounter_df\n",
    "index_data = {'patient_id': [1, 2, 3],\n",
    "              'index_date': ['2023-01-15', '2023-02-10', '2023-03-05']}\n",
    "\n",
    "encounter_data = {'patient_id': [1, 1, 2, 3, 3],\n",
    "                  'encounter_date': ['2023-02-01', '2023-03-01','2023-03-01', '2022-09-15', '2023-05-10']}\n",
    "\n",
    "\n",
    "index_df = pd.DataFrame(index_data)\n",
    "encounter_df = pd.DataFrame(encounter_data)\n",
    "\n",
    "# Convert date columns to datetime objects\n",
    "index_df['index_date'] = pd.to_datetime(index_df['index_date'])\n",
    "encounter_df['encounter_date'] = pd.to_datetime(encounter_df['encounter_date'])\n",
    "\n",
    "# Merge the dataframes\n",
    "merged_df = encounter_df.merge(index_df, on='patient_id')\n",
    "\n",
    "\n",
    "# Filter rows where 'encounter_date_encounter' is after 'index_date'\n",
    "filtered_df = merged_df[merged_df['encounter_date'] > merged_df['index_date']]\n",
    "\n",
    "# Find the first occurrence of each patient\n",
    "result_df = filtered_df.groupby('patient_id')['encounter_date'].min().reset_index()\n",
    "\n",
    "# Display the result\n",
    "print(result_df)\n"
   ]
  },
  {
   "cell_type": "code",
   "execution_count": null,
   "id": "1ef445f6-15ba-4f92-86b4-6382346f4f71",
   "metadata": {},
   "outputs": [],
   "source": []
  },
  {
   "cell_type": "code",
   "execution_count": null,
   "id": "87a815ec-7760-40d3-94c8-9e9626f403e6",
   "metadata": {
    "tags": []
   },
   "outputs": [],
   "source": [
    "import pandas as pd\n",
    "\n",
    "# Sample data for index_data, encounter_data, and result_df\n",
    "index_data = {'patient_id': [1, 2, 3],\n",
    "              'index_date': ['2023-01-15', '2023-02-10', '2023-03-05']}\n",
    "\n",
    "encounter_data = {'patient_id': [1, 1, 2, 3, 3],\n",
    "                  'encounter_date': ['2023-02-01', '2023-03-01', '2023-03-01', '2022-09-15', '2023-05-10']}\n",
    "\n",
    "result_data = {'patient_id': [1, 2, 3],\n",
    "               'encounter_date': ['2023-02-01', '2023-03-01', '2023-05-10']}\n",
    "\n",
    "index_df = pd.DataFrame(index_data)\n",
    "encounter_df = pd.DataFrame(encounter_data)\n",
    "result_df = pd.DataFrame(result_data)\n",
    "\n",
    "# Convert date columns to datetime objects\n",
    "index_df['index_date'] = pd.to_datetime(index_df['index_date'])\n",
    "encounter_df['encounter_date'] = pd.to_datetime(encounter_df['encounter_date'])\n",
    "result_df['encounter_date'] = pd.to_datetime(result_df['encounter_date'])\n",
    "\n",
    "# Create a mapping between 'patient_id' and 'encounter_date' in result_df\n",
    "mapping = result_df.set_index('patient_id')['encounter_date'].to_dict()\n"
   ]
  },
  {
   "cell_type": "code",
   "execution_count": null,
   "id": "e6eed43a-7f34-4bb9-bdea-9949503116cd",
   "metadata": {},
   "outputs": [],
   "source": []
  },
  {
   "cell_type": "code",
   "execution_count": null,
   "id": "79c3d5c8-9578-4c51-a771-b24389c25a69",
   "metadata": {
    "tags": []
   },
   "outputs": [],
   "source": [
    "# Define a function to find the row index in encounter_data\n",
    "def find_row_index(row):\n",
    "    patient_id = row['patient_id']\n",
    "    print(patient_id)\n",
    "    encounter_date = mapping.get(patient_id)\n",
    "    print(encounter_date)\n",
    "    \n",
    "    condition = (encounter_df['patient_id'] == patient_id) & (encounter_df['encounter_date'] == encounter_date)\n",
    "\n",
    "    # Use .loc to get the index of the first matching row (if any)\n",
    "    matching_indices = encounter_df.loc[condition].index\n",
    "    return matching_indices\n",
    "    \n",
    "\n",
    "# Add the 'first_encounter_after_index' column to index_data\n",
    "index_df['first_encounter_after_index'] = index_df.apply(find_row_index, axis=1)\n",
    "\n",
    "# Display the result as a dic\n",
    "print(index_df) "
   ]
  },
  {
   "cell_type": "code",
   "execution_count": null,
   "id": "fd7d9406-b15a-496d-8a3d-877934f39dc4",
   "metadata": {
    "tags": []
   },
   "outputs": [],
   "source": [
    "index_df['first_encounter_after_index'] = index_df['first_encounter_after_index'].apply(lambda x: pd.to_numeric(x.item(), errors='coerce'))\n",
    "print(index_df)"
   ]
  },
  {
   "cell_type": "markdown",
   "id": "6b88b817-14ce-49cf-adf2-11b2f3224f9b",
   "metadata": {},
   "source": [
    "### write method 2 into the framework: want the index_data_df be a df "
   ]
  },
  {
   "cell_type": "code",
   "execution_count": null,
   "id": "860622d9-e814-42fe-b29e-363b7275e866",
   "metadata": {
    "tags": []
   },
   "outputs": [],
   "source": [
    "df_interpolated =  pd.read_csv(\"/blue/bianjiang/leyang.sun/df_interpolated\")\n",
    "print(df_interpolated.head)"
   ]
  },
  {
   "cell_type": "code",
   "execution_count": null,
   "id": "d52b499d-cd89-425b-81bb-b630b7fd04ea",
   "metadata": {},
   "outputs": [],
   "source": [
    "merged_df = df_interpolated.merge(df_index_date_filtered, on='deid_pat_ID')\n",
    "filtered_df = merged_df[merged_df['START_DATE'] > merged_df['index_date']]\n",
    "result_df = filtered_df.groupby('deid_pat_ID')['START_DATE'].min().reset_index()\n",
    "mapping = result_df.set_index('deid_pat_ID')['START_DATE'].to_dict()"
   ]
  },
  {
   "cell_type": "code",
   "execution_count": null,
   "id": "b9c376a5-c5e9-445a-a75d-0e29f0efb591",
   "metadata": {
    "tags": []
   },
   "outputs": [],
   "source": [
    "print(result_df)"
   ]
  },
  {
   "cell_type": "code",
   "execution_count": null,
   "id": "5a931d43-ec10-4823-aba3-39ab46b61f94",
   "metadata": {},
   "outputs": [],
   "source": [
    "# Define a function to find the row index in encounter_data\n",
    "def find_row_index(row):\n",
    "    patient_id = row['deid_pat_ID']\n",
    "    #print(patient_id)\n",
    "    encounter_date = mapping.get(patient_id)\n",
    "    #print(encounter_date)\n",
    "    \n",
    "    condition = (df_interpolated['deid_pat_ID'] == patient_id) & (df_interpolated['START_DATE'] == encounter_date)\n",
    "\n",
    "    # Use .loc to get the index of the first matching row (if any)\n",
    "    matching_indices = df_interpolated.loc[condition].index\n",
    "    return matching_indices"
   ]
  },
  {
   "cell_type": "code",
   "execution_count": null,
   "id": "40f1d065-d8b6-458c-8657-523a391f8d2d",
   "metadata": {
    "tags": []
   },
   "outputs": [],
   "source": [
    "print(result_df[result_df['deid_pat_ID'] == 'IRB202003281_PAT_10045'])"
   ]
  },
  {
   "cell_type": "code",
   "execution_count": null,
   "id": "c6a5c245-f4e5-4ae9-81fc-d42d5c790e14",
   "metadata": {
    "tags": []
   },
   "outputs": [],
   "source": [
    "matching_rows = df_interpolated[(df_interpolated['deid_pat_ID'] == 'IRB202003281_PAT_10045') & \n",
    "                              (df_interpolated['START_DATE'] ==  '2016-12-20')]\n",
    "\n",
    "# Print the matching rows\n",
    "# print(matching_rows)\n",
    "\n",
    "matching_rows.drop_duplicate"
   ]
  },
  {
   "cell_type": "code",
   "execution_count": null,
   "id": "3865b78f-4acb-4a36-b825-7c008ac94f38",
   "metadata": {
    "tags": []
   },
   "outputs": [],
   "source": [
    "df_index_date_filtered = pd.read_csv(\"/blue/bianjiang/leyang.sun/df_index_date_filtered\")\n",
    "print(df_index_date_filtered.head(20))"
   ]
  },
  {
   "cell_type": "code",
   "execution_count": null,
   "id": "52d292a2-6a0e-4ba4-8237-800a31cda221",
   "metadata": {
    "tags": []
   },
   "outputs": [],
   "source": [
    "import re\n",
    "def extract_first_number(s):\n",
    "    match = re.search(r'\\[(\\d+)', s)\n",
    "    if match:\n",
    "        return int(match.group(1))\n",
    "    else:\n",
    "        return 0\n",
    "df_index_date_filtered['first_encounter_after_index'] = df_index_date_filtered['first_encounter_after_index'].apply(extract_first_number)"
   ]
  },
  {
   "cell_type": "code",
   "execution_count": null,
   "id": "34c7a013-b8e0-4c7d-8e74-dafdad25758f",
   "metadata": {
    "tags": []
   },
   "outputs": [],
   "source": [
    "print(df_index_date_filtered.head(20))"
   ]
  },
  {
   "cell_type": "code",
   "execution_count": null,
   "id": "5acd445e-c1e8-4131-81f4-f26021457af4",
   "metadata": {
    "tags": []
   },
   "outputs": [],
   "source": [
    "# df_index_date_filtered.to_csv(\"/blue/bianjiang/leyang.sun/df_index_date_filtered\", index=False)  # Set index=False to exclude the index column from the CSV\n",
    "df_index_date_filtered = pd.read_csv(\"/blue/bianjiang/leyang.sun/df_index_date_filtered\")"
   ]
  },
  {
   "cell_type": "code",
   "execution_count": null,
   "id": "b1a57203-aff1-4cab-9f3c-98df4289f1d1",
   "metadata": {},
   "outputs": [],
   "source": [
    "# Add the 'first_encounter_after_index' column to index_data\n",
    "# df_index_date_filtered['first_encounter_after_index'] = df_index_date_filtered.apply(find_row_index, axis=1)\n",
    "\n",
    "# Display the result as a dic\n",
    "# print(index_data) \n",
    " \n",
    "# df_index_date_filtered['first_encounter_after_index'] = df_index_date_filtered['first_encounter_after_index'].apply(lambda x: pd.to_numeric(x.item(), errors='coerce'))\n",
    "print(df_index_date_filtered[\"first_encounter_after_index\"].dtype)\n",
    "print(df_index_date_filtered.head)"
   ]
  },
  {
   "cell_type": "code",
   "execution_count": null,
   "id": "d702eb1f-fa66-4e3c-9165-8c23bcd2d2b5",
   "metadata": {
    "tags": []
   },
   "outputs": [],
   "source": [
    "data = {'column_A': [10, 20, 30, 40, 50],\n",
    "        'column_B': ['Yes', 'No', 'Yes', 'No', 'Yes']}\n",
    "\n",
    "df = pd.DataFrame(data)\n",
    "\n",
    "# Condition: Retrieve elements from column_A where column_B is 'Yes'\n",
    "condition = df['column_B'] == 'Yes'\n",
    "result = df.loc[condition, 'column_A']\n",
    "\n",
    "# Display the result\n",
    "print(result)"
   ]
  },
  {
   "cell_type": "code",
   "execution_count": null,
   "id": "2609ecfb-56ff-4a15-b7d9-1f0d1e1ce61c",
   "metadata": {
    "tags": []
   },
   "outputs": [],
   "source": [
    "# Extract the first five rows of each patient\n",
    "patients = df_index_date_filtered['deid_pat_ID']"
   ]
  },
  {
   "cell_type": "code",
   "execution_count": null,
   "id": "1d3b1c47-76dd-4103-94fe-20276fbf6101",
   "metadata": {
    "tags": []
   },
   "outputs": [],
   "source": [
    "\n",
    "X_train_0 = np.empty((0, len(total_col)), int) # Initialize an empty NumPy array\n",
    "X_test_0 = np.empty((0, len(total_col)), int) # Initialize an empty NumPy array\n",
    "\n",
    "for patient in patients:\n",
    "    patient_train_data = df_interpolated[df_interpolated['deid_pat_ID'] == patient].head(5)[total_col].to_numpy()\n",
    "    \n",
    "    index = df_index_date_filtered.index[df_index_date_filtered['deid_pat_ID'] == patient]\n",
    "    # print(\"index is:\", index, \"index type:\", type(index))    \n",
    "    x = df_index_date_filtered['first_encounter_after_index'][index]\n",
    "    x = x.iloc[0]\n",
    "    # print(\"x is:\", x, \"x type:\", type(x))\n",
    "    # patient_test_data = df_interpolated[df_interpolated['deid_pat_ID'] == patient].iloc[6:10][total_col].to_numpy()\n",
    "    patient_test_data = df_interpolated.iloc[x:x+2][total_col].to_numpy()\n",
    "    \n",
    "    X_train_0 = np.vstack((X_train_0, patient_train_data))\n",
    "    X_test_0 = np.vstack((X_test_0, patient_test_data))\n"
   ]
  },
  {
   "cell_type": "code",
   "execution_count": null,
   "id": "fe04c4be-039d-4d28-a2f7-64ce484ccb33",
   "metadata": {
    "tags": []
   },
   "outputs": [],
   "source": [
    "\n",
    "X_train_0 = np.empty((0, len(total_col)), int) # Initialize an empty NumPy array\n",
    "X_test_0 = np.empty((0, len(total_col)), int) # Initialize an empty NumPy array\n",
    "\n",
    "for patient in patients:\n",
    "    patient_train_data = df_interpolated[df_interpolated['deid_pat_ID'] == patient].head(5)[total_col].to_numpy()\n",
    "    \n",
    "    index = df_index_date_filtered.index[df_index_date_filtered['deid_pat_ID'] == patient]\n",
    "    # print(\"index is:\", index, \"index type:\", type(index))    \n",
    "    x = df_index_date_filtered['first_encounter_after_index'][index]\n",
    "    x = x.iloc[0]\n",
    "    # print(\"x is:\", x, \"x type:\", type(x))\n",
    "    # patient_test_data = df_interpolated[df_interpolated['deid_pat_ID'] == patient].iloc[6:10][total_col].to_numpy()\n",
    "    patient_test_data = df_interpolated.iloc[x:x+2][total_col].to_numpy()\n",
    "    \n",
    "    X_train_0 = np.vstack((X_train_0, patient_train_data))\n",
    "    X_test_0 = np.vstack((X_test_0, patient_test_data))\n",
    "\n",
    "\n",
    "# Print the resulting NumPy array\n",
    "print(X_train_0.shape, X_test_0.shape)"
   ]
  },
  {
   "cell_type": "code",
   "execution_count": null,
   "id": "a9ffb9a5-44a0-414e-9cb1-cbdd907ebe7d",
   "metadata": {
    "tags": []
   },
   "outputs": [],
   "source": [
    "# Specify the file path where you want to save the array\n",
    "X_train_0_path = \"X_train_0.npy\"\n",
    "X_test_0_path = \"X_test_0.npy\"\n",
    "X_train_0 = np.load(X_train_0_path)\n",
    "X_test_0 = np.load(X_test_0_path)\n",
    "# Save the array to the file\n",
    "# np.save(X_train_0_path, X_train_0)\n",
    "# np.save(X_test_0_path, X_test_0)"
   ]
  },
  {
   "cell_type": "code",
   "execution_count": null,
   "id": "67ab2515-0698-4bdc-a0f3-cd79d07a634f",
   "metadata": {
    "tags": []
   },
   "outputs": [],
   "source": [
    "# Load the array from the file\n",
    "# X_train_0 = np.load(X_train_0_path)\n",
    "# X_test_0 = np.load(X_test_0_path)"
   ]
  },
  {
   "cell_type": "code",
   "execution_count": null,
   "id": "4374747b-635d-4c2f-878f-71f761d3af04",
   "metadata": {},
   "outputs": [],
   "source": [
    "X_train_1 = np.empty((0,), dtype=int) \n",
    "X_test_1 = np.empty((0,), dtype=int) \n",
    "\n",
    "for patient in patients:\n",
    "    \n",
    "    patient_train_data1 = df_interpolated[df_interpolated['deid_pat_ID'] == patient]['time'].iloc[0:5]    \n",
    "    for element in patient_train_data1:\n",
    "        X_train_1 = np.append(X_train_1, element)\n",
    "    \n",
    "    index = df_index_date_filtered.index[df_index_date_filtered['deid_pat_ID'] == patient]\n",
    "    # print(\"index is:\", index, \"index type:\", type(index))    \n",
    "    x = df_index_date_filtered['first_encounter_after_index'][index]\n",
    "    x = x.iloc[0]\n",
    "    patient_test_data1 = df_interpolated['time'].iloc[x:x+2]        \n",
    "    for element in patient_test_data1:\n",
    "        X_test_1 = np.append(X_test_1, element)\n",
    "    \n",
    "X_train_1 = X_train_1.reshape(-1, 1)\n",
    "X_test_1 = X_test_1.reshape(-1, 1)"
   ]
  },
  {
   "cell_type": "code",
   "execution_count": null,
   "id": "7ddc28f9-9af8-42a4-94c1-08d93b2afb8e",
   "metadata": {},
   "outputs": [],
   "source": [
    "# accelarate version \n",
    "X_train_1 = np.empty((0, 1), dtype=int)\n",
    "X_test_1 = np.empty((0, 1), dtype=int)\n",
    "\n",
    "for patient in patients:\n",
    "    # Filter the DataFrame for the current patient\n",
    "    patient_train_data1 = df_interpolated[df_interpolated['deid_pat_ID'] == patient]['timestamp'].iloc[0:5].values\n",
    "    X_train_1 = np.vstack((X_train_1, patient_train_data1.reshape(-1, 1)))\n",
    "\n",
    "    index = df_index_date_filtered.index[df_index_date_filtered['deid_pat_ID'] == patient]\n",
    "    x = df_index_date_filtered['first_encounter_after_index'][index].iloc[0]\n",
    "    patient_test_data1 = df_interpolated['timestamp'].iloc[x:x + 2].values\n",
    "    X_test_1 = np.vstack((X_test_1, patient_test_data1.reshape(-1, 1)))"
   ]
  },
  {
   "cell_type": "code",
   "execution_count": null,
   "id": "ce76da19-4961-479c-b3b7-5734188a8b1a",
   "metadata": {
    "tags": []
   },
   "outputs": [],
   "source": [
    "y_train = np.empty((0,), dtype=int) \n",
    "y_test = np.empty((0,), dtype=int) \n",
    "\n",
    "for patient in patients:\n",
    "    \n",
    "    patient_y_train = df_interpolated[df_interpolated['deid_pat_ID'] == patient]['HbA1c'].iloc[0:5]    \n",
    "    for element in patient_y_train:\n",
    "        y_train = np.append(y_train, element)\n",
    "    \n",
    "    index = df_index_date_filtered.index[df_index_date_filtered['deid_pat_ID'] == patient]\n",
    "    # print(\"index is:\", index, \"index type:\", type(index))    \n",
    "    x = df_index_date_filtered['first_encounter_after_index'][index]\n",
    "    x = x.iloc[0]\n",
    "    patient_y_test = df_interpolated['HbA1c'].iloc[x:x+2]        \n",
    "    for element in patient_y_test:\n",
    "        y_test = np.append(y_test, element)\n",
    "    \n",
    "y_train = y_train.reshape(-1, 1)\n",
    "y_test = y_test.reshape(-1, 1)"
   ]
  },
  {
   "cell_type": "code",
   "execution_count": null,
   "id": "a7b46c08-f4b8-456d-8ae4-dbbffc3b6684",
   "metadata": {
    "tags": []
   },
   "outputs": [],
   "source": [
    "y_train = np.empty((0, 1), dtype=int)\n",
    "y_test = np.empty((0, 1), dtype=int)\n",
    "\n",
    "for patient in patients:\n",
    "    # Filter the DataFrame for the current patient\n",
    "    patient_y_train = df_interpolated[df_interpolated['deid_pat_ID'] == patient]['HbA1c'].iloc[0:5].values\n",
    "    y_train = np.vstack((y_train, patient_y_train.reshape(-1, 1)))\n",
    "\n",
    "    index = df_index_date_filtered.index[df_index_date_filtered['deid_pat_ID'] == patient]\n",
    "    x = df_index_date_filtered['first_encounter_after_index'][index].iloc[0]\n",
    "    patient_y_test = df_interpolated['HbA1c'].iloc[x:x + 2].values\n",
    "    y_test = np.vstack((y_test, patient_y_test.reshape(-1, 1)))"
   ]
  },
  {
   "cell_type": "code",
   "execution_count": null,
   "id": "a835630d-61aa-48db-ad15-96f2b3477ed3",
   "metadata": {
    "tags": []
   },
   "outputs": [],
   "source": [
    "'''\n",
    "# prepare X_train_1, X_test_1, y_train, y_test\n",
    "def custom_agg_time(df):\n",
    "    return {'X_train_1': df.head(5).values.tolist(), 'X_test_1': df.iloc[6:10].values.tolist()}\n",
    "\n",
    "def custom_agg_y(df):\n",
    "    return {'y_train': df.head(5).values.tolist(), 'y_test': df.iloc[6:10].values.tolist()}\n",
    "\n",
    "# Group by 'Patient_ID' and apply the custom aggregation function\n",
    "grouped_outcome = df_t2d_ehr_sorted.groupby('deid_pat_ID')['HbA1c'].agg(custom_agg_y).reset_index()\n",
    "grouped_time = df_t2d_ehr_sorted.groupby('deid_pat_ID')['time'].agg(custom_agg_time).reset_index()\n",
    "\n",
    "X_train_1 = []\n",
    "X_test_1 = []\n",
    "y_train = []\n",
    "y_test = []\n",
    "\n",
    "for dic in grouped_outcome['HbA1c']:\n",
    "    for key, value in dic.items():\n",
    "        if key == 'y_train':\n",
    "            y_train.append(value)\n",
    "        elif key == 'y_test':\n",
    "            y_test.append(value)\n",
    "\n",
    "for dic in grouped_time['time']:\n",
    "    for key, value in dic.items():\n",
    "        if key == 'X_train_1':\n",
    "            X_train_1.append(value)\n",
    "        elif key == 'X_test_1':\n",
    "            X_test_1.append(value)\n",
    "\n",
    "X_train_1 = list(chain.from_iterable(X_train_1)) # should convert a list into an nparray later\n",
    "X_test_1 = list(chain.from_iterable(X_test_1))\n",
    "y_train = list(chain.from_iterable(y_train)) # should convert a list into an nparray later\n",
    "y_test = list(chain.from_iterable(y_test))\n",
    "\n",
    "print(len(y_train),len(y_test)) # 14490/6 = 9660/4 = 2415 patients in total\n",
    "print(len(X_train_1),len(X_test_1)) # 14490/6 = 9660/4 = 2415 patients in total\n",
    "'''"
   ]
  },
  {
   "cell_type": "code",
   "execution_count": null,
   "id": "45cafb7c-32e5-446b-858d-284d7fb18992",
   "metadata": {
    "tags": []
   },
   "outputs": [],
   "source": [
    "'''\n",
    "X_train_1 = np.array(X_train_1).reshape(-1, 1)\n",
    "X_test_1 = np.array(X_test_1).reshape(-1, 1)\n",
    "y_train = np.array(y_train).reshape(-1, 1)\n",
    "y_test = np.array(y_test).reshape(-1, 1)\n",
    "'''\n",
    "print(X_train_0.shape,ç.shape)\n",
    "print(X_train_1.shape,X_test_1.shape, y_train.shape, y_test.shape)"
   ]
  },
  {
   "cell_type": "code",
   "execution_count": 1,
   "id": "9cc60621-af97-4ce6-b289-11f44daa5af3",
   "metadata": {
    "tags": []
   },
   "outputs": [],
   "source": [
    "# Specify the file path where you want to save the array\n",
    "X_train_1_path = \"X_train_1.npy\"\n",
    "X_test_1_path = \"X_test_1.npy\"\n",
    "y_train_path = \"y_train.npy\"\n",
    "y_test_path = \"y_test.npy\"\n",
    "\n",
    "\n",
    "# Save the array to the file\n",
    "#np.save(X_train_1_path, X_train_1)\n",
    "#np.save(X_test_1_path, X_test_1)\n",
    "#np.save(y_train_path, y_train)\n",
    "#np.save(y_test_path, y_test)"
   ]
  },
  {
   "cell_type": "code",
   "execution_count": null,
   "id": "4a60f774-b6ce-47cc-a5a8-c1deafe36eb4",
   "metadata": {
    "tags": []
   },
   "outputs": [],
   "source": [
    "# Specify the file path where you want to save the array\n",
    "X_train_1_path = \"X_train_1.npy\"\n",
    "X_test_1_path = \"X_test_1.npy\"\n",
    "y_train_path = \"y_train.npy\"\n",
    "y_test_path = \"y_test.npy\"\n",
    "\n",
    "\n",
    "X_train_1 = np.load(X_train_1_path) # TO REVISE\n",
    "X_test_1 = np.load(X_test_1_path) # TO REVISE\n",
    "y_train = np.load(y_train_path)\n",
    "y_test = np.load(y_test_path)"
   ]
  },
  {
   "cell_type": "code",
   "execution_count": null,
   "id": "a5b0033b-0c6d-4b52-be71-b7553ab5caa6",
   "metadata": {
    "tags": []
   },
   "outputs": [],
   "source": [
    "print(X_test_0)"
   ]
  },
  {
   "cell_type": "markdown",
   "id": "3dd36462-f5b9-417b-8edb-18f14c42cf2d",
   "metadata": {},
   "source": [
    "## Source functions for ODE"
   ]
  },
  {
   "cell_type": "code",
   "execution_count": 11,
   "id": "9f8bed00-0c17-4d7d-8b5d-2b2cf0dff6be",
   "metadata": {
    "tags": []
   },
   "outputs": [
    {
     "name": "stderr",
     "output_type": "stream",
     "text": [
      "2023-10-03 22:54:05.481051: I tensorflow/core/util/port.cc:110] oneDNN custom operations are on. You may see slightly different numerical results due to floating-point round-off errors from different computation orders. To turn them off, set the environment variable `TF_ENABLE_ONEDNN_OPTS=0`.\n",
      "2023-10-03 22:54:06.260994: I tensorflow/tsl/cuda/cudart_stub.cc:28] Could not find cuda drivers on your machine, GPU will not be used.\n",
      "2023-10-03 22:54:07.655538: I tensorflow/tsl/cuda/cudart_stub.cc:28] Could not find cuda drivers on your machine, GPU will not be used.\n",
      "2023-10-03 22:54:07.656943: I tensorflow/core/platform/cpu_feature_guard.cc:182] This TensorFlow binary is optimized to use available CPU instructions in performance-critical operations.\n",
      "To enable the following instructions: AVX2 AVX512F AVX512_VNNI FMA, in other operations, rebuild TensorFlow with the appropriate compiler flags.\n",
      "2023-10-03 22:54:21.140311: W tensorflow/compiler/tf2tensorrt/utils/py_utils.cc:38] TF-TRT Warning: Could not find TensorRT\n",
      "Using backend: tensorflow.compat.v1\n",
      "Other supported backends: tensorflow, pytorch, jax, paddle.\n",
      "paddle supports more examples now and is recommended.\n"
     ]
    },
    {
     "name": "stdout",
     "output_type": "stream",
     "text": [
      "WARNING:tensorflow:From /home/leyang.sun/.local/lib/python3.11/site-packages/tensorflow/python/compat/v2_compat.py:107: disable_resource_variables (from tensorflow.python.ops.variable_scope) is deprecated and will be removed in a future version.\n",
      "Instructions for updating:\n",
      "non-resource variables are not supported in the long term\n"
     ]
    },
    {
     "name": "stderr",
     "output_type": "stream",
     "text": [
      "2023-10-03 22:54:43.229633: W tensorflow/core/common_runtime/gpu/gpu_device.cc:1960] Cannot dlopen some GPU libraries. Please make sure the missing libraries mentioned above are installed properly if you would like to use GPU. Follow the guide at https://www.tensorflow.org/install/gpu for how to download and setup the required libraries for your platform.\n",
      "Skipping registering GPU devices...\n"
     ]
    }
   ],
   "source": [
    "from __future__ import absolute_import\n",
    "from __future__ import division\n",
    "from __future__ import print_function\n",
    "\n",
    "import itertools\n",
    "\n",
    "import numpy as np\n",
    "import tensorflow as tf\n",
    "\n",
    "import deepxde as dde\n",
    "from spaces import FinitePowerSeries, FiniteChebyshev, GRF\n",
    "from system import LTSystem, ODESystem, DRSystem, CVCSystem, ADVDSystem\n",
    "from utils import merge_values, trim_to_65535, mean_squared_error_outlier, safe_test, smape_outlier"
   ]
  },
  {
   "cell_type": "code",
   "execution_count": 12,
   "id": "79a0f184-552e-4abb-9904-d781efa0594c",
   "metadata": {
    "tags": []
   },
   "outputs": [],
   "source": [
    "def ode_system(T):\n",
    "    \"\"\"ODE\"\"\"\n",
    "\n",
    "    def g(s, u, x):\n",
    "        # Antiderivative\n",
    "        return u\n",
    "        # Nonlinear ODE\n",
    "        # return -s**2 + u\n",
    "        # Gravity pendulum\n",
    "        # k = 1\n",
    "        # return [s[1], - k * np.sin(s[0]) + u]\n",
    "\n",
    "    s0 = [0]\n",
    "    # s0 = [0, 0]  # Gravity pendulum\n",
    "    return ODESystem(g, s0, T)"
   ]
  },
  {
   "cell_type": "code",
   "execution_count": 13,
   "id": "22a94190-d02d-4bc1-9bb3-8a9b8ae39d0c",
   "metadata": {},
   "outputs": [],
   "source": [
    "\n",
    "def run(X_train_0, X_train_1, X_test_0, X_test_1, y_train, y_test, problem, system, space, T, m, nn, net, lr, epochs, num_train, num_test):\n",
    "    # space_test = GRF(1, length_scale=0.1, N=1000, interp=\"cubic\")\n",
    "\n",
    "    X_train, y_train = [X_train_0, X_train_1], y_train\n",
    "    X_test, y_test = [X_test_0, X_test_1], y_test\n",
    "    print(X_train_0.shape, X_test_0.shape)\n",
    "    print(y_train.shape, y_test.shape)\n",
    "    \n",
    "    \n",
    "    \n",
    "    if nn != \"opnn\":\n",
    "        X_train = merge_values(X_train)\n",
    "        X_test = merge_values(X_test)\n",
    "\n",
    "    X_test_trim = trim_to_65535(X_test)[0]\n",
    "    y_test_trim = trim_to_65535(y_test)[0]\n",
    "    \n",
    "    if nn == \"opnn\":\n",
    "        data = dde.data.Triple(\n",
    "            X_train=X_train, y_train=y_train, X_test=X_test_trim, y_test=y_test_trim\n",
    "        )\n",
    "    else:\n",
    "        data = dde.data.DataSet(\n",
    "            X_train=X_train, y_train=y_train, X_test=X_test_trim, y_test=y_test_trim\n",
    "        )\n",
    "\n",
    "    model = dde.Model(data, net)\n",
    "    #model.compile(\"adam\", lr=lr, metrics=[mean_squared_error_outlier])\n",
    "    model.compile(optimizer='adam', lr=lr, metrics=[smape_outlier]) # default loss: mse\n",
    "\n",
    "\n",
    "    checker = dde.callbacks.ModelCheckpoint( \n",
    "        \"model/model.ckpt\", save_better_only=True, period=1000\n",
    "    )\n",
    "    losshistory, train_state = model.train(epochs=epochs, callbacks=[checker])\n",
    "    print(\"# Parameters:\", np.sum([np.prod(v.get_shape().as_list()) for v in tf.compat.v1.trainable_variables()]))\n",
    "    dde.saveplot(losshistory, train_state, issave=True, isplot=True)\n",
    "    \n",
    "    #model.restore(\"/home/leyang.sun/DeepONet/deeponet/src/model/model.ckpt-\" + str(train_state.best_step), verbose=1)\n",
    "    model.restore(\"/home/leyang.sun/DeepONet/deeponet/src/model/model.ckpt-\" + str(train_state.best_step)+ \".ckpt\", verbose=1)\n",
    "    safe_test(model, data, X_test, y_test)\n",
    "    "
   ]
  },
  {
   "cell_type": "code",
   "execution_count": 14,
   "id": "7408937f-479a-4d79-9062-985e1727258b",
   "metadata": {
    "tags": []
   },
   "outputs": [],
   "source": [
    "def main():\n",
    "    # Problems:\n",
    "    # - \"lt\": Legendre transform\n",
    "    # - \"ode\": Antiderivative, Nonlinear ODE, Gravity pendulum\n",
    "    # - \"dr\": Diffusion-reaction\n",
    "    # - \"cvc\": Advection\n",
    "    # - \"advd\": Advection-diffusion\n",
    "    problem = \"ode\"\n",
    "    T = 1\n",
    "    if problem == \"lt\":\n",
    "        npoints_output = 20\n",
    "        system = lt_system(npoints_output)\n",
    "    elif problem == \"ode\":\n",
    "        system = ode_system(T)\n",
    "    elif problem == \"dr\":\n",
    "        npoints_output = 100\n",
    "        system = dr_system(T, npoints_output)\n",
    "    elif problem == \"cvc\":\n",
    "        npoints_output = 100\n",
    "        system = cvc_system(T, npoints_output)\n",
    "    elif problem == \"advd\":\n",
    "        npoints_output = 100\n",
    "        system = advd_system(T, npoints_output)\n",
    "\n",
    "    # Function space\n",
    "    # space = FinitePowerSeries(N=100, M=1)\n",
    "    # space = FiniteChebyshev(N=20, M=1)\n",
    "    # space = GRF(2, length_scale=0.2, N=2000, interp=\"cubic\")  # \"lt\"\n",
    "    space = GRF(1, length_scale=0.2, N=1000, interp=\"cubic\")\n",
    "    # space = GRF(T, length_scale=0.2, N=1000 * T, interp=\"cubic\")\n",
    "\n",
    "    # Hyperparameters\n",
    "    m = 54 # adjust based on total column of the training set\n",
    "    num_train = 100\n",
    "    num_test = 1000\n",
    "    lr = 0.001\n",
    "    epochs = 50000\n",
    "\n",
    "    # Network\n",
    "    nn = \"opnn\"\n",
    "    activation = \"relu\"\n",
    "    initializer = \"Glorot normal\"  # \"He normal\" or \"Glorot normal\"\n",
    "    dim_x = 1 if problem in [\"ode\", \"lt\"] else 2\n",
    "    if nn == \"opnn\":\n",
    "        net = dde.maps.DeepONet(\n",
    "            [m, 40, 40], # m indicates the input layer size, and the subsequent 40, 40 indicate the sizes of two hidden layers.\n",
    "            [dim_x, 40, 40], # dim_x = 1 since this is an ode with only 1 outcome variable \n",
    "            activation,\n",
    "            initializer,\n",
    "            use_bias=True,\n",
    "            stacked=False,\n",
    "        )\n",
    "        \n",
    "    elif nn == \"fnn\":\n",
    "        net = dde.maps.FNN([m + dim_x] + [100] * 2 + [1], activation, initializer)\n",
    "    elif nn == \"resnet\":\n",
    "        net = dde.maps.ResNet(m + dim_x, 1, 128, 2, activation, initializer)\n",
    "\n",
    "        \n",
    "    run(X_train_0, X_train_1, X_test_0, X_test_1, y_train, y_test, problem, system, space, T, m, nn, net, lr, epochs, num_train, num_test)"
   ]
  },
  {
   "cell_type": "code",
   "execution_count": 15,
   "id": "cdeb8cb6-8eda-47ff-b2af-4929748cdd8a",
   "metadata": {
    "tags": []
   },
   "outputs": [
    {
     "name": "stdout",
     "output_type": "stream",
     "text": [
      "(17452, 54) (8726, 54)\n",
      "(17452, 1) (8726, 1)\n",
      "Compiling model...\n",
      "Building DeepONet...\n",
      "'build' took 0.091407 s\n",
      "\n",
      "'compile' took 0.227145 s\n",
      "\n"
     ]
    },
    {
     "name": "stderr",
     "output_type": "stream",
     "text": [
      "/home/leyang.sun/.local/lib/python3.11/site-packages/deepxde/nn/tensorflow_compat_v1/deeponet.py:187: UserWarning: `tf.layers.dense` is deprecated and will be removed in a future version. Please use `tf.keras.layers.Dense` instead.\n",
      "  return tf.layers.dense(\n",
      "2023-10-03 22:54:57.009791: I tensorflow/compiler/mlir/mlir_graph_optimization_pass.cc:375] MLIR V1 optimization pass is not enabled\n"
     ]
    },
    {
     "name": "stdout",
     "output_type": "stream",
     "text": [
      "Warning: epochs is deprecated and will be removed in a future version. Use iterations instead.\n",
      "Training model...\n",
      "\n",
      "float32 float64\n",
      "Step      Train loss    Test loss     Test metric   \n",
      "0         [3.25e+09]    [1.17e+10]    [2.00e+02]    \n",
      "float32 float64\n",
      "1000      [5.68e+05]    [2.30e+06]    [1.93e+02]    \n",
      "INFO:tensorflow:model/model.ckpt-1000.ckpt is not in all_model_checkpoint_paths. Manually adding it.\n",
      "float32 float64\n",
      "2000      [1.13e+05]    [4.69e+05]    [1.80e+02]    \n",
      "INFO:tensorflow:model/model.ckpt-2000.ckpt is not in all_model_checkpoint_paths. Manually adding it.\n",
      "float32 float64\n",
      "3000      [4.12e+04]    [1.77e+05]    [1.74e+02]    \n",
      "INFO:tensorflow:model/model.ckpt-3000.ckpt is not in all_model_checkpoint_paths. Manually adding it.\n",
      "float32 float64\n",
      "4000      [2.37e+04]    [1.04e+05]    [1.74e+02]    \n",
      "INFO:tensorflow:model/model.ckpt-4000.ckpt is not in all_model_checkpoint_paths. Manually adding it.\n",
      "float32 float64\n",
      "5000      [1.65e+04]    [1.24e+05]    [1.98e+02]    \n",
      "INFO:tensorflow:model/model.ckpt-5000.ckpt is not in all_model_checkpoint_paths. Manually adding it.\n",
      "float32 float64\n",
      "6000      [1.41e+04]    [1.57e+05]    [1.99e+02]    \n",
      "INFO:tensorflow:model/model.ckpt-6000.ckpt is not in all_model_checkpoint_paths. Manually adding it.\n",
      "float32 float64\n",
      "7000      [8.69e+03]    [2.25e+05]    [1.99e+02]    \n",
      "INFO:tensorflow:model/model.ckpt-7000.ckpt is not in all_model_checkpoint_paths. Manually adding it.\n",
      "float32 float64\n",
      "8000      [6.95e+03]    [4.00e+04]    [1.90e+02]    \n",
      "INFO:tensorflow:model/model.ckpt-8000.ckpt is not in all_model_checkpoint_paths. Manually adding it.\n",
      "float32 float64\n",
      "9000      [6.04e+03]    [3.23e+04]    [1.87e+02]    \n",
      "INFO:tensorflow:model/model.ckpt-9000.ckpt is not in all_model_checkpoint_paths. Manually adding it.\n",
      "float32 float64\n",
      "10000     [4.04e+03]    [2.43e+04]    [1.90e+02]    \n",
      "INFO:tensorflow:model/model.ckpt-10000.ckpt is not in all_model_checkpoint_paths. Manually adding it.\n",
      "float32 float64\n",
      "11000     [1.41e+06]    [5.26e+06]    [1.99e+02]    \n",
      "float32 float64\n",
      "12000     [2.37e+03]    [1.63e+04]    [1.91e+02]    \n",
      "INFO:tensorflow:model/model.ckpt-12000.ckpt is not in all_model_checkpoint_paths. Manually adding it.\n",
      "float32 float64\n",
      "13000     [1.65e+03]    [1.26e+04]    [1.94e+02]    \n",
      "INFO:tensorflow:model/model.ckpt-13000.ckpt is not in all_model_checkpoint_paths. Manually adding it.\n",
      "float32 float64\n",
      "14000     [1.51e+03]    [1.14e+04]    [1.93e+02]    \n",
      "INFO:tensorflow:model/model.ckpt-14000.ckpt is not in all_model_checkpoint_paths. Manually adding it.\n",
      "float32 float64\n",
      "15000     [9.14e+02]    [9.79e+03]    [1.77e+02]    \n",
      "INFO:tensorflow:model/model.ckpt-15000.ckpt is not in all_model_checkpoint_paths. Manually adding it.\n",
      "float32 float64\n",
      "16000     [6.02e+02]    [1.18e+04]    [1.77e+02]    \n",
      "INFO:tensorflow:model/model.ckpt-16000.ckpt is not in all_model_checkpoint_paths. Manually adding it.\n",
      "float32 float64\n",
      "17000     [4.04e+02]    [1.43e+04]    [1.83e+02]    \n",
      "INFO:tensorflow:model/model.ckpt-17000.ckpt is not in all_model_checkpoint_paths. Manually adding it.\n",
      "float32 float64\n",
      "18000     [2.37e+02]    [3.35e+03]    [1.92e+02]    \n",
      "INFO:tensorflow:model/model.ckpt-18000.ckpt is not in all_model_checkpoint_paths. Manually adding it.\n",
      "float32 float64\n",
      "19000     [1.48e+02]    [4.52e+03]    [1.82e+02]    \n",
      "INFO:tensorflow:model/model.ckpt-19000.ckpt is not in all_model_checkpoint_paths. Manually adding it.\n",
      "float32 float64\n",
      "20000     [9.48e+01]    [5.05e+03]    [1.58e+02]    \n",
      "INFO:tensorflow:model/model.ckpt-20000.ckpt is not in all_model_checkpoint_paths. Manually adding it.\n",
      "float32 float64\n",
      "21000     [7.66e+01]    [7.75e+03]    [1.60e+02]    \n",
      "INFO:tensorflow:model/model.ckpt-21000.ckpt is not in all_model_checkpoint_paths. Manually adding it.\n",
      "float32 float64\n",
      "22000     [6.03e+01]    [9.49e+03]    [1.66e+02]    \n",
      "INFO:tensorflow:model/model.ckpt-22000.ckpt is not in all_model_checkpoint_paths. Manually adding it.\n",
      "float32 float64\n",
      "23000     [1.49e+02]    [1.01e+04]    [1.66e+02]    \n",
      "float32 float64\n",
      "24000     [1.78e+03]    [3.47e+03]    [1.40e+02]    \n",
      "float32 float64\n",
      "25000     [4.41e+01]    [4.53e+01]    [1.48e+02]    \n",
      "INFO:tensorflow:model/model.ckpt-25000.ckpt is not in all_model_checkpoint_paths. Manually adding it.\n",
      "float32 float64\n",
      "26000     [4.08e+01]    [4.20e+01]    [1.37e+02]    \n",
      "INFO:tensorflow:model/model.ckpt-26000.ckpt is not in all_model_checkpoint_paths. Manually adding it.\n",
      "float32 float64\n",
      "27000     [3.60e+01]    [3.73e+01]    [1.22e+02]    \n",
      "INFO:tensorflow:model/model.ckpt-27000.ckpt is not in all_model_checkpoint_paths. Manually adding it.\n",
      "float32 float64\n",
      "28000     [3.02e+01]    [3.15e+01]    [1.03e+02]    \n",
      "INFO:tensorflow:model/model.ckpt-28000.ckpt is not in all_model_checkpoint_paths. Manually adding it.\n",
      "float32 float64\n",
      "29000     [2.38e+01]    [2.53e+01]    [8.34e+01]    \n",
      "INFO:tensorflow:model/model.ckpt-29000.ckpt is not in all_model_checkpoint_paths. Manually adding it.\n",
      "float32 float64\n",
      "30000     [1.78e+01]    [1.93e+01]    [6.43e+01]    \n",
      "INFO:tensorflow:model/model.ckpt-30000.ckpt is not in all_model_checkpoint_paths. Manually adding it.\n",
      "float32 float64\n",
      "31000     [1.27e+01]    [1.43e+01]    [4.73e+01]    \n",
      "INFO:tensorflow:model/model.ckpt-31000.ckpt is not in all_model_checkpoint_paths. Manually adding it.\n",
      "float32 float64\n",
      "32000     [8.84e+00]    [1.05e+01]    [3.28e+01]    \n",
      "INFO:tensorflow:model/model.ckpt-32000.ckpt is not in all_model_checkpoint_paths. Manually adding it.\n",
      "float32 float64\n",
      "33000     [6.17e+00]    [7.93e+00]    [2.20e+01]    \n",
      "INFO:tensorflow:model/model.ckpt-33000.ckpt is not in all_model_checkpoint_paths. Manually adding it.\n",
      "float32 float64\n",
      "34000     [4.59e+00]    [6.42e+00]    [1.68e+01]    \n",
      "INFO:tensorflow:model/model.ckpt-34000.ckpt is not in all_model_checkpoint_paths. Manually adding it.\n",
      "float32 float64\n",
      "35000     [3.86e+00]    [5.74e+00]    [1.63e+01]    \n",
      "INFO:tensorflow:model/model.ckpt-35000.ckpt is not in all_model_checkpoint_paths. Manually adding it.\n",
      "float32 float64\n",
      "36000     [3.64e+00]    [5.55e+00]    [1.71e+01]    \n",
      "INFO:tensorflow:model/model.ckpt-36000.ckpt is not in all_model_checkpoint_paths. Manually adding it.\n",
      "float32 float64\n",
      "37000     [3.60e+00]    [5.54e+00]    [1.77e+01]    \n",
      "INFO:tensorflow:model/model.ckpt-37000.ckpt is not in all_model_checkpoint_paths. Manually adding it.\n",
      "float32 float64\n",
      "38000     [3.60e+00]    [5.54e+00]    [1.78e+01]    \n",
      "INFO:tensorflow:model/model.ckpt-38000.ckpt is not in all_model_checkpoint_paths. Manually adding it.\n",
      "float32 float64\n",
      "39000     [3.60e+00]    [5.54e+00]    [1.79e+01]    \n",
      "INFO:tensorflow:model/model.ckpt-39000.ckpt is not in all_model_checkpoint_paths. Manually adding it.\n",
      "float32 float64\n",
      "40000     [3.60e+00]    [5.54e+00]    [1.79e+01]    \n",
      "INFO:tensorflow:model/model.ckpt-40000.ckpt is not in all_model_checkpoint_paths. Manually adding it.\n",
      "float32 float64\n",
      "41000     [3.60e+00]    [5.54e+00]    [1.79e+01]    \n",
      "float32 float64\n",
      "42000     [3.60e+00]    [5.54e+00]    [1.79e+01]    \n",
      "float32 float64\n",
      "43000     [3.60e+00]    [5.54e+00]    [1.79e+01]    \n",
      "float32 float64\n",
      "44000     [3.60e+00]    [5.54e+00]    [1.79e+01]    \n",
      "float32 float64\n",
      "45000     [3.60e+00]    [5.54e+00]    [1.79e+01]    \n",
      "float32 float64\n",
      "46000     [3.60e+00]    [5.54e+00]    [1.79e+01]    \n",
      "float32 float64\n",
      "47000     [3.60e+00]    [5.54e+00]    [1.79e+01]    \n",
      "float32 float64\n",
      "48000     [3.60e+00]    [5.54e+00]    [1.79e+01]    \n",
      "float32 float64\n",
      "49000     [3.60e+00]    [5.54e+00]    [1.79e+01]    \n",
      "float32 float64\n",
      "50000     [3.60e+00]    [5.54e+00]    [1.79e+01]    \n",
      "\n",
      "Best model at step 40000:\n",
      "  train loss: 3.60e+00\n",
      "  test loss: 5.54e+00\n",
      "  test metric: [1.79e+01]\n",
      "\n",
      "'train' took 567.065722 s\n",
      "\n",
      "# Parameters: 5561\n",
      "Saving loss history to /home/leyang.sun/DeepONet/deeponet/src/loss.dat ...\n",
      "Error: The network has multiple inputs, and saving such result han't been implemented.\n",
      "Error: The network has multiple inputs, and plotting such result han't been implemented.\n"
     ]
    },
    {
     "data": {
      "image/png": "[encoded data removed]",
      "text/plain": [
       "<Figure size 640x480 with 1 Axes>"
      ]
     },
     "metadata": {},
     "output_type": "display_data"
    },
    {
     "name": "stdout",
     "output_type": "stream",
     "text": [
      "Restoring model from /home/leyang.sun/DeepONet/deeponet/src/model/model.ckpt-40000.ckpt ...\n",
      "\n",
      "INFO:tensorflow:Restoring parameters from /home/leyang.sun/DeepONet/deeponet/src/model/model.ckpt-40000.ckpt\n",
      "Test MSE: 5.541163237632219\n",
      "Test MSE w/o outliers: 3.2360832607109735\n",
      "\n",
      "Test MAE w/o outliers: 1.3812870587422623\n",
      "\n",
      "float32 float64\n",
      "Test smape_loss w/o outliers: 17.857758916017872\n",
      "\n",
      "Test mape_loss w/o outliers: 18.7187029791665\n",
      "\n"
     ]
    }
   ],
   "source": [
    "if __name__ == \"__main__\":\n",
    "    main()"
   ]
  },
  {
   "cell_type": "code",
   "execution_count": null,
   "id": "33280c7f-6802-4fd9-8089-ef53432cb56b",
   "metadata": {},
   "outputs": [],
   "source": []
  }
 ],
 "metadata": {
  "kernelspec": {
   "display_name": "Python 3 (ipykernel)",
   "language": "python",
   "name": "python3"
  },
  "language_info": {
   "codemirror_mode": {
    "name": "ipython",
    "version": 3
   },
   "file_extension": ".py",
   "mimetype": "text/x-python",
   "name": "python",
   "nbconvert_exporter": "python",
   "pygments_lexer": "ipython3",
   "version": "3.10.12"
  }
 },
 "nbformat": 4,
 "nbformat_minor": 5
}
