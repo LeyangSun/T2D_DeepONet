{
 "cells": [
  {
   "cell_type": "code",
   "execution_count": null,
   "id": "d3846cec-8074-4f5d-9619-69799402a4d3",
   "metadata": {
    "tags": []
   },
   "outputs": [],
   "source": [
    "%run deeponet_pde.py"
   ]
  },
  {
   "cell_type": "code",
   "execution_count": 15,
   "id": "420f9739-a89d-4aa4-be5f-a1299ce20f61",
   "metadata": {},
   "outputs": [],
   "source": [
    "import numpy as np\n",
    "from sklearn import gaussian_process as gp"
   ]
  },
  {
   "cell_type": "code",
   "execution_count": 22,
   "id": "b6b679a7-56b9-4f47-83ee-1fa5c6b43860",
   "metadata": {
    "tags": []
   },
   "outputs": [],
   "source": [
    "x = np.linspace(0, 1, num=1000)[:, None] # x就是100个0-1之间的点\n",
    "#print(x)"
   ]
  },
  {
   "cell_type": "code",
   "execution_count": 23,
   "id": "906addb8-3521-4872-bc28-54545b66b788",
   "metadata": {},
   "outputs": [
    {
     "name": "stdout",
     "output_type": "stream",
     "text": [
      "(1000, 10000)\n"
     ]
    }
   ],
   "source": [
    "# random ()\n",
    "#Generate `n` random feature vectors.\n",
    "import numpy as np\n",
    "u = np.random.randn(1000, 10000)\n",
    "print(u.shape)"
   ]
  },
  {
   "cell_type": "code",
   "execution_count": 24,
   "id": "e026ed9c-bfa6-4a9a-8305-006b524823dc",
   "metadata": {
    "tags": []
   },
   "outputs": [],
   "source": [
    "length_scale=0.2\n",
    "K = gp.kernels.RBF(length_scale=length_scale)\n",
    "K = K(x) "
   ]
  },
  {
   "cell_type": "code",
   "execution_count": 25,
   "id": "6ecb4a7e-aa61-459f-a5d0-afd89eb6bcc6",
   "metadata": {},
   "outputs": [
    {
     "name": "stdout",
     "output_type": "stream",
     "text": [
      "Dimensions of K: (1000, 1000)\n"
     ]
    }
   ],
   "source": [
    "#print(K)\n",
    "print(\"Dimensions of K:\", K.shape)\n"
   ]
  },
  {
   "cell_type": "code",
   "execution_count": 28,
   "id": "d433d590-28a7-4153-9c69-a1a2fbec6c0a",
   "metadata": {
    "tags": []
   },
   "outputs": [
    {
     "name": "stdout",
     "output_type": "stream",
     "text": [
      "(1000, 1000)\n"
     ]
    }
   ],
   "source": [
    "#computes the Cholesky decomposition of a matrix that consists of the covariance matrix self.K with a small added diagonal perturbation.\n",
    "L = np.linalg.cholesky(K + 1e-13 * np.eye(1000))\n",
    "#print(L)\n",
    "print(L.shape)"
   ]
  },
  {
   "cell_type": "code",
   "execution_count": 29,
   "id": "1f61f026-c172-4a11-9249-c31b3955c678",
   "metadata": {
    "tags": []
   },
   "outputs": [
    {
     "name": "stdout",
     "output_type": "stream",
     "text": [
      "(10000, 1000)\n"
     ]
    }
   ],
   "source": [
    "# generating random samples from a Gaussian distribution using the Cholesky decomposition method.\n",
    "random_result = np.dot(L, u).T # the dot pruduct of L and u\n",
    "# print(random_result)\n",
    "print(random_result.shape)"
   ]
  },
  {
   "cell_type": "code",
   "execution_count": 30,
   "id": "3c315ed6-b2cb-4e73-aa1b-4870e5fad366",
   "metadata": {
    "tags": []
   },
   "outputs": [
    {
     "name": "stdout",
     "output_type": "stream",
     "text": [
      "[[0.79027274]\n",
      " [0.55496262]\n",
      " [0.09202611]\n",
      " ...\n",
      " [0.11977756]\n",
      " [0.57337878]\n",
      " [0.26581102]]\n"
     ]
    }
   ],
   "source": [
    "# in system.py\n",
    "print(1 * np.random.rand(10000)[:, None])"
   ]
  },
  {
   "cell_type": "code",
   "execution_count": 3,
   "id": "d173519d-2920-46b3-b6b0-555f4acfaee8",
   "metadata": {
    "tags": []
   },
   "outputs": [
    {
     "name": "stdout",
     "output_type": "stream",
     "text": [
      "Function value at x = [2.5, 3.5]: [3.5 4.5]\n"
     ]
    }
   ],
   "source": [
    "import numpy as np\n",
    "from scipy import interpolate\n",
    "\n",
    "# Define a class with the eval_u_one method\n",
    "class FunctionInterpolator:\n",
    "    def __init__(self, interp_type=\"linear\"):\n",
    "        self.interp = interp_type\n",
    "        # Assume self.x is a 1D array of x-coordinates for your data points\n",
    "        self.x = np.array([1, 2, 3, 4, 5])\n",
    "    \n",
    "    def eval_u_one(self, y, x):\n",
    "        if self.interp == \"linear\":\n",
    "            return np.interp(x, np.ravel(self.x), y)\n",
    "        f = interpolate.interp1d(\n",
    "            np.ravel(self.x), y, kind=self.interp, copy=False, assume_sorted=True\n",
    "        )\n",
    "        return f(x)\n",
    "\n",
    "# Create an instance of the class\n",
    "interpolator = FunctionInterpolator()\n",
    "\n",
    "# Define a function (represented as data points)\n",
    "# This function has data points corresponding to the x-coordinates in self.x\n",
    "function_data = np.array([2, 4, 3, 6, 5])  # Replace with your data points\n",
    "\n",
    "# Define a specific point where you want to compute the function value\n",
    "specific_point = [2.5, 3.5]  # Replace with your desired x-coordinate\n",
    "\n",
    "# Call the eval_u_one method to compute the function value at the specific point\n",
    "function_value = interpolator.eval_u_one(function_data, specific_point)\n",
    "\n",
    "# Print the computed function value\n",
    "print(f\"Function value at x = {specific_point}: {function_value}\")\n"
   ]
  },
  {
   "cell_type": "code",
   "execution_count": 1,
   "id": "5f10d720-b492-4d23-8ae1-92c63ea7fbef",
   "metadata": {},
   "outputs": [
    {
     "name": "stdout",
     "output_type": "stream",
     "text": [
      "Interpolated Values:\n",
      "[[3.   3.5  4.5 ]\n",
      " [2.   2.25 3.  ]\n",
      " [1.   1.5  2.  ]]\n"
     ]
    }
   ],
   "source": [
    "import numpy as np\n",
    "\n",
    "# Define a class with the eval_u method\n",
    "class FunctionInterpolator:\n",
    "    def __init__(self, interp_type=\"linear\"):\n",
    "        self.interp = interp_type\n",
    "        # Assume self.x is a 1D array of x-coordinates for your data points\n",
    "        self.x = np.array([1, 2, 3, 4, 5])\n",
    "    \n",
    "    def eval_u(self, ys, sensors):\n",
    "        if self.interp == \"linear\":\n",
    "            return np.vstack([np.interp(sensors, np.ravel(self.x), y).T for y in ys])\n",
    "\n",
    "# Create an instance of the class\n",
    "interpolator = FunctionInterpolator()\n",
    "\n",
    "# Define a list of functions (represented as data points)\n",
    "# Each function has data points corresponding to the x-coordinates in self.x\n",
    "function1 = np.array([2, 4, 3, 6, 5])  # Replace with your data points\n",
    "function2 = np.array([1, 3, 1.5, 4.5, 3])  # Replace with your data points\n",
    "function3 = np.array([0, 2, 1, 3, 2.5])  # Replace with your data points\n",
    "\n",
    "# Define sensor points where you want to interpolate function values\n",
    "sensor_points = np.array([1.5, 2.5, 3.5])  # Replace with your desired sensor points\n",
    "\n",
    "# Call the eval_u method to interpolate function values at sensor points\n",
    "interpolated_values = interpolator.eval_u([function1, function2, function3], sensor_points)\n",
    "\n",
    "# Print the interpolated values\n",
    "print(\"Interpolated Values:\")\n",
    "print(interpolated_values)\n"
   ]
  },
  {
   "cell_type": "code",
   "execution_count": 4,
   "id": "f26b900b-a487-471c-a34c-50dcdf08c219",
   "metadata": {
    "tags": []
   },
   "outputs": [
    {
     "name": "stdout",
     "output_type": "stream",
     "text": [
      "Time points: [0 1 2 3 4 5]\n",
      "Solution values: [1.00000000e+00 3.67998883e-01 1.83178607e-02 1.23961050e-04\n",
      " 1.55675581e-07 1.46443319e-07]\n"
     ]
    }
   ],
   "source": [
    "from scipy.integrate import solve_ivp\n",
    "\n",
    "# Define the ODE system as a Python function\n",
    "def odesystem(t, y):\n",
    "    dydt = -2 * t * y\n",
    "    return dydt\n",
    "\n",
    "# Define the initial conditions\n",
    "t_span = (0, 5)\n",
    "y0 = [1.0]\n",
    "\n",
    "# Solve the ODEs using the 'RK45' method\n",
    "solution = solve_ivp(odesystem, t_span, y0, method='RK45', t_eval=[0, 1, 2, 3, 4, 5])\n",
    "\n",
    "# Access the solution at specific time points\n",
    "print(\"Time points:\", solution.t)\n",
    "print(\"Solution values:\", solution.y[0])"
   ]
  },
  {
   "cell_type": "code",
   "execution_count": 2,
   "id": "c8f76f6a-28b4-4bb7-bfa3-53e0a6608695",
   "metadata": {
    "tags": []
   },
   "outputs": [
    {
     "name": "stderr",
     "output_type": "stream",
     "text": [
      "2023-09-02 23:33:13.136580: I tensorflow/tsl/cuda/cudart_stub.cc:28] Could not find cuda drivers on your machine, GPU will not be used.\n",
      "2023-09-02 23:33:13.816509: I tensorflow/tsl/cuda/cudart_stub.cc:28] Could not find cuda drivers on your machine, GPU will not be used.\n",
      "2023-09-02 23:33:13.818002: I tensorflow/core/platform/cpu_feature_guard.cc:182] This TensorFlow binary is optimized to use available CPU instructions in performance-critical operations.\n",
      "To enable the following instructions: AVX2 AVX512F FMA, in other operations, rebuild TensorFlow with the appropriate compiler flags.\n",
      "2023-09-02 23:33:17.270122: W tensorflow/compiler/tf2tensorrt/utils/py_utils.cc:38] TF-TRT Warning: Could not find TensorRT\n",
      "Using backend: tensorflow.compat.v1\n",
      "Other supported backends: tensorflow, pytorch, jax, paddle.\n",
      "paddle supports more examples now and is recommended.\n"
     ]
    },
    {
     "name": "stdout",
     "output_type": "stream",
     "text": [
      "WARNING:tensorflow:From /home/leyang.sun/.local/lib/python3.11/site-packages/tensorflow/python/compat/v2_compat.py:107: disable_resource_variables (from tensorflow.python.ops.variable_scope) is deprecated and will be removed in a future version.\n",
      "Instructions for updating:\n",
      "non-resource variables are not supported in the long term\n"
     ]
    },
    {
     "name": "stderr",
     "output_type": "stream",
     "text": [
      "2023-09-02 23:33:24.307947: W tensorflow/core/common_runtime/gpu/gpu_device.cc:1960] Cannot dlopen some GPU libraries. Please make sure the missing libraries mentioned above are installed properly if you would like to use GPU. Follow the guide at https://www.tensorflow.org/install/gpu for how to download and setup the required libraries for your platform.\n",
      "Skipping registering GPU devices...\n"
     ]
    }
   ],
   "source": [
    "from __future__ import absolute_import\n",
    "from __future__ import division\n",
    "from __future__ import print_function\n",
    "\n",
    "import itertools\n",
    "\n",
    "import numpy as np\n",
    "import tensorflow as tf\n",
    "\n",
    "import deepxde as dde\n",
    "from spaces import FinitePowerSeries, FiniteChebyshev, GRF\n",
    "from system import LTSystem, ODESystem, DRSystem, CVCSystem, ADVDSystem\n",
    "from utils import merge_values, trim_to_65535, mean_squared_error_outlier, safe_test\n",
    "\n"
   ]
  },
  {
   "cell_type": "code",
   "execution_count": 3,
   "id": "15260225-201f-4df4-851a-e9e0b9a8e5c1",
   "metadata": {
    "tags": []
   },
   "outputs": [],
   "source": [
    "def ode_system(T):\n",
    "    \"\"\"ODE\"\"\"\n",
    "\n",
    "    def g(s, u, x):\n",
    "        # Antiderivative\n",
    "        return u\n",
    "        # Nonlinear ODE\n",
    "        # return -s**2 + u\n",
    "        # Gravity pendulum\n",
    "        # k = 1\n",
    "        # return [s[1], - k * np.sin(s[0]) + u]\n",
    "\n",
    "    s0 = [0]\n",
    "    # s0 = [0, 0]  # Gravity pendulum\n",
    "    return ODESystem(g, s0, T)\n"
   ]
  },
  {
   "cell_type": "code",
   "execution_count": 4,
   "id": "315a4f29-63c0-4c02-a46e-0e9150c23fdb",
   "metadata": {
    "tags": []
   },
   "outputs": [
    {
     "name": "stdout",
     "output_type": "stream",
     "text": [
      "Generating operator data...\n",
      "'gen_operator_data' took 37.114730 s\n",
      "\n",
      "X_train: [array([[-0.67377417, -0.7164547 , -0.75806802, ...,  0.72740741,\n",
      "         0.70937354,  0.69228458],\n",
      "       [-0.71306527, -0.67376013, -0.63586445, ...,  1.61989663,\n",
      "         1.67443211,  1.7253884 ],\n",
      "       [-1.27192265, -1.21020951, -1.14291121, ..., -1.7065931 ,\n",
      "        -1.72820423, -1.75077834],\n",
      "       ...,\n",
      "       [-0.24678339, -0.22648383, -0.21078069, ..., -0.31240173,\n",
      "        -0.30215867, -0.28251597],\n",
      "       [-1.13882236, -1.07704478, -1.0113834 , ...,  0.97439072,\n",
      "         0.97543754,  0.98001548],\n",
      "       [-0.19130821, -0.26006125, -0.33023965, ...,  0.82079097,\n",
      "         0.93020328,  1.03678781]]), array([[0.97407125],\n",
      "       [0.50855862],\n",
      "       [0.58565644],\n",
      "       ...,\n",
      "       [0.68308219],\n",
      "       [0.28086793],\n",
      "       [0.34745995]])]\n",
      "y_train: [[ 0.2708296 ]\n",
      " [ 0.08726522]\n",
      " [ 0.15243661]\n",
      " ...\n",
      " [ 0.60232189]\n",
      " [ 0.00510228]\n",
      " [-0.26626907]]\n"
     ]
    }
   ],
   "source": [
    "problem = \"ode\"\n",
    "T = 1\n",
    "\n",
    "m = 100\n",
    "num_train = 10000\n",
    "num_test = 100000\n",
    "lr = 0.001\n",
    "epochs = 50000\n",
    "\n",
    "system = ode_system(T)\n",
    "space = GRF(1, length_scale=0.2, N=1000, interp=\"cubic\")\n",
    "\n",
    "X_train, y_train = system.gen_operator_data(space, m, num_train)\n",
    "print(\"X_train:\",X_train)\n",
    "print(\"y_train:\",y_train)"
   ]
  },
  {
   "cell_type": "code",
   "execution_count": 5,
   "id": "975ccc61-fb33-4f7d-8624-26f439a34bc4",
   "metadata": {
    "tags": []
   },
   "outputs": [
    {
     "name": "stdout",
     "output_type": "stream",
     "text": [
      "(10000, 100)\n",
      "(10000, 1)\n"
     ]
    }
   ],
   "source": [
    "print(X_train[0].shape)\n",
    "print(X_train[1].shape)"
   ]
  },
  {
   "cell_type": "code",
   "execution_count": null,
   "id": "1428e80e-cb82-4fe7-878d-3126df32e786",
   "metadata": {},
   "outputs": [],
   "source": [
    "\n",
    "# Network\n",
    "nn = \"opnn\"\n",
    "activation = \"relu\"\n",
    "initializer = \"Glorot normal\"  # \"He normal\" or \"Glorot normal\"\n",
    "dim_x = 1 if problem in [\"ode\", \"lt\"] else 2\n",
    "if nn == \"opnn\":\n",
    "    net = dde.maps.DeepONet(\n",
    "        [m, 40, 40], # m indicates the input layer size, and the subsequent 40, 40 indicate the sizes of two hidden layers.\n",
    "        [dim_x, 40, 40],\n",
    "        activation,\n",
    "        initializer,\n",
    "        use_bias=True,\n",
    "        stacked=False,\n",
    "    )\n",
    "elif nn == \"fnn\":\n",
    "    net = dde.maps.FNN([m + dim_x] + [100] * 2 + [1], activation, initializer)\n",
    "elif nn == \"resnet\":\n",
    "    net = dde.maps.ResNet(m + dim_x, 1, 128, 2, activation, initializer)"
   ]
  }
 ],
 "metadata": {
  "kernelspec": {
   "display_name": "Python 3 (ipykernel)",
   "language": "python",
   "name": "python3"
  },
  "language_info": {
   "codemirror_mode": {
    "name": "ipython",
    "version": 3
   },
   "file_extension": ".py",
   "mimetype": "text/x-python",
   "name": "python",
   "nbconvert_exporter": "python",
   "pygments_lexer": "ipython3",
   "version": "3.10.12"
  }
 },
 "nbformat": 4,
 "nbformat_minor": 5
}
