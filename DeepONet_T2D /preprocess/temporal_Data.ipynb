{
 "cells": [
  {
   "cell_type": "markdown",
   "id": "ab4ecc6a-21eb-4bbd-a7c1-27a29417f9a1",
   "metadata": {
    "tags": []
   },
   "source": [
    "## a1c data preprocessing"
   ]
  },
  {
   "cell_type": "code",
   "execution_count": 17,
   "id": "10984558-3556-470d-9f0c-5030e7b2484b",
   "metadata": {},
   "outputs": [],
   "source": [
    "import pandas as pd\n",
    "import os\n",
    "import numpy as np\n",
    "import matplotlib.pyplot as plt\n"
   ]
  },
  {
   "cell_type": "code",
   "execution_count": 18,
   "id": "0c5eb5be-da50-467a-931d-e09d7a383ac5",
   "metadata": {},
   "outputs": [],
   "source": [
    "a1c = pd.read_csv(\"/blue/bianjiang/leyang.sun/temporal_data/patients_encounter_lab_HbA1c.csv\")"
   ]
  },
  {
   "cell_type": "code",
   "execution_count": 19,
   "id": "e295942c-eccf-45ee-841d-359abba02f02",
   "metadata": {},
   "outputs": [
    {
     "name": "stdout",
     "output_type": "stream",
     "text": [
      "<bound method NDFrame.head of          Unnamed: 0                    deid_pat_ID  \\\n",
      "0               365  27Aug2023IRB20200328100738384   \n",
      "1              1385  27Aug2023IRB20200328100995439   \n",
      "2              1426  27Aug2023IRB20200328100921495   \n",
      "3              1842  27Aug2023IRB20200328100625451   \n",
      "4              2099  27Aug2023IRB20200328100475352   \n",
      "...             ...                            ...   \n",
      "2193160   450913168  27Aug2023IRB20200328100543511   \n",
      "2193161   450913180  27Aug2023IRB20200328100485352   \n",
      "2193162   450913182  27Aug2023IRB20200328100918737   \n",
      "2193163   450913216  27Aug2023IRB20200328100889141   \n",
      "2193164   450913240  27Aug2023IRB20200328100059667   \n",
      "\n",
      "                                               deid_enc_ID  START_DATE  HbA1c  \n",
      "0        a+xOBr8CTVPfogPNf4VvJUF8vI5gjUABvQJOVNrcAsl6gh...  2014-01-14    5.2  \n",
      "1        a+xOB7wKQyCvqgzNCfZvJDB5vI0S/T57uwRKX9+iB7FyhB...  2014-03-21    6.0  \n",
      "2        a+xOdM5xSlCtrAHOCPkWU0R5zPhliDEAuAI+Va7Zc78Og2...  2014-02-14    6.1  \n",
      "3        a+xOAs4GPSCvrQzLf/UXVjV9zI5g/TcFvAdNVqHfB719hR...  2014-05-02    8.9  \n",
      "4        a+xOBb8AOlah23G/DYVsIkh9zPkT+zZwyQBCU6veA8lz8B...  2014-04-28    8.3  \n",
      "...                                                    ...         ...    ...  \n",
      "2193160                                   ZvBCdb0ASlGgqg==  2022-08-31   11.0  \n",
      "2193161                                   ZvBCdb0ASlGoqw==  2022-08-31    8.5  \n",
      "2193162                                   ZvBCdb0ASl6sqw==  2022-08-31    6.7  \n",
      "2193163                                                NaN  2022-08-29    5.0  \n",
      "2193164                                   ZvBCdb0BTl+srw==  2022-08-30    6.6  \n",
      "\n",
      "[2193165 rows x 5 columns]>\n"
     ]
    }
   ],
   "source": [
    "print(a1c.head)"
   ]
  },
  {
   "cell_type": "code",
   "execution_count": 20,
   "id": "c110bd28-c8f5-4fb2-9f38-522185f6f329",
   "metadata": {},
   "outputs": [
    {
     "name": "stdout",
     "output_type": "stream",
     "text": [
      "Number of deid_enc_IDs that appear only once: 1899097\n"
     ]
    }
   ],
   "source": [
    "\n",
    "# Count the occurrences of each deid_enc_ID\n",
    "id_counts = a1c['deid_enc_ID'].value_counts()\n",
    "\n",
    "# Filter out deid_enc_IDs that appear only once\n",
    "unique_ids = id_counts[id_counts == 1].index.tolist()\n",
    "\n",
    "# Display the count and the unique deid_enc_IDs\n",
    "print(f\"Number of deid_enc_IDs that appear only once: {len(unique_ids)}\")\n",
    "#print(\"List of deid_enc_IDs that appear only once:\")\n",
    "#print(unique_ids)\n"
   ]
  },
  {
   "cell_type": "code",
   "execution_count": 21,
   "id": "e0e091b0-d14e-4aa9-b283-dc713b4a8eed",
   "metadata": {},
   "outputs": [
    {
     "name": "stdout",
     "output_type": "stream",
     "text": [
      "Number of deid_enc_IDs that appear twice: 56692\n",
      "Number of deid_enc_IDs that appear 3 times: 17599\n",
      "Number of deid_enc_IDs that appear 4 times: 4379\n",
      "Number of deid_enc_IDs that appear 5 times: 1026\n",
      "Number of deid_enc_IDs that appear 6 times: 1636\n",
      "Number of deid_enc_IDs that appear 7 times: 585\n",
      "Number of deid_enc_IDs that appear 8 times: 183\n",
      "Number of deid_enc_IDs that appear 9 times: 121\n",
      "Number of deid_enc_IDs that appear 10 times: 112\n",
      "Number of deid_enc_IDs > 10 times: 89\n"
     ]
    }
   ],
   "source": [
    "\n",
    "# Count the occurrences of each deid_enc_ID\n",
    "id_counts = a1c['deid_enc_ID'].value_counts()\n",
    "\n",
    "# Filter out deid_enc_IDs that appear only once\n",
    "unique_ids_2 = id_counts[id_counts == 2].index.tolist()\n",
    "unique_ids_3 = id_counts[id_counts == 3].index.tolist()\n",
    "unique_ids_4 = id_counts[id_counts == 4].index.tolist()\n",
    "unique_ids_5 = id_counts[id_counts == 5].index.tolist()\n",
    "unique_ids_6 = id_counts[id_counts == 6].index.tolist()\n",
    "unique_ids_7 = id_counts[id_counts == 7].index.tolist()\n",
    "unique_ids_8 = id_counts[id_counts == 8].index.tolist()\n",
    "unique_ids_9 = id_counts[id_counts == 9].index.tolist()\n",
    "unique_ids_10 = id_counts[id_counts == 10].index.tolist()\n",
    "unique_ids_g_10 = id_counts[id_counts > 10].index.tolist()\n",
    "\n",
    "# Display the count and the unique deid_enc_IDs\n",
    "print(f\"Number of deid_enc_IDs that appear twice: {len(unique_ids_2)}\")\n",
    "print(f\"Number of deid_enc_IDs that appear 3 times: {len(unique_ids_3)}\")\n",
    "print(f\"Number of deid_enc_IDs that appear 4 times: {len(unique_ids_4)}\")\n",
    "print(f\"Number of deid_enc_IDs that appear 5 times: {len(unique_ids_5)}\")\n",
    "print(f\"Number of deid_enc_IDs that appear 6 times: {len(unique_ids_6)}\")\n",
    "print(f\"Number of deid_enc_IDs that appear 7 times: {len(unique_ids_7)}\")\n",
    "print(f\"Number of deid_enc_IDs that appear 8 times: {len(unique_ids_8)}\")\n",
    "print(f\"Number of deid_enc_IDs that appear 9 times: {len(unique_ids_9)}\")\n",
    "print(f\"Number of deid_enc_IDs that appear 10 times: {len(unique_ids_10)}\")\n",
    "print(f\"Number of deid_enc_IDs > 10 times: {len(unique_ids_g_10)}\")"
   ]
  },
  {
   "cell_type": "code",
   "execution_count": 22,
   "id": "21cfdabb-5379-4f68-a885-64ddee1b71f0",
   "metadata": {},
   "outputs": [
    {
     "name": "stdout",
     "output_type": "stream",
     "text": [
      "Number of deid_pat_ID that appear 1 times: 217149\n",
      "Number of deid_pat_ID that appear 2 times: 104934\n",
      "Number of deid_pat_ID that appear 3 times: 59569\n",
      "Number of deid_pat_ID that appear 4 times: 39888\n",
      "Number of deid_pat_ID that appear 5 times: 27641\n",
      "Number of deid_pat_ID that appear 6 times: 20904\n",
      "Number of deid_pat_ID that appear 7 times: 15554\n",
      "Number of deid_pat_ID that appear 8 times: 12320\n",
      "Number of deid_pat_ID that appear 9 times: 10012\n",
      "Number of deid_pat_ID that appear 10 times: 8123\n",
      "Number of deid_pat_ID that appear 11 times: 6571\n",
      "Number of deid_pat_ID that appear 12 times: 5558\n",
      "Number of deid_pat_ID that appear 13 times: 4372\n",
      "Number of deid_pat_ID that appear 14 times: 3795\n",
      "Number of deid_pat_ID that appear 15 times: 3258\n",
      "Number of deid_pat_ID that appear 16 times: 2815\n",
      "Number of deid_pat_ID that appear 17 times: 2408\n",
      "Number of deid_pat_ID that appear 18 times: 2123\n",
      "Number of deid_pat_ID that appear 19 times: 1895\n",
      "Number of deid_pat_ID that appear 20 times: 1623\n",
      "Number of deid_pat_ID that appear 21 times: 1490\n",
      "Number of deid_pat_ID that appear 22 times: 1242\n",
      "Number of deid_pat_ID that appear 23 times: 1081\n",
      "Number of deid_pat_ID that appear 24 times: 962\n",
      "Number of deid_pat_ID that appear 25 times: 836\n",
      "Number of deid_pat_ID that appear 26 times: 716\n",
      "Number of deid_pat_ID that appear 27 times: 626\n",
      "Number of deid_pat_ID that appear 28 times: 544\n",
      "Number of deid_pat_ID that appear 29 times: 520\n",
      "Number of deid_pat_ID that appear 30 times: 423\n",
      "Number of deid_pat_ID that appear 31 times: 344\n",
      "Number of deid_pat_ID that appear 32 times: 285\n",
      "Number of deid_pat_ID that appear 33 times: 280\n",
      "Number of deid_pat_ID that appear 34 times: 226\n",
      "Number of deid_pat_ID that appear 35 times: 190\n",
      "Number of deid_pat_ID that appear 36 times: 175\n",
      "Number of deid_pat_ID that appear 37 times: 143\n",
      "Number of deid_pat_ID that appear 38 times: 112\n",
      "Number of deid_pat_ID that appear 39 times: 90\n",
      "Number of deid_pat_ID that appear 40 times: 76\n",
      "Number of deid_pat_ID that appear 41 times: 62\n",
      "Number of deid_pat_ID that appear 42 times: 46\n",
      "Number of deid_pat_ID that appear 43 times: 42\n",
      "Number of deid_pat_ID that appear 44 times: 47\n",
      "Number of deid_pat_ID that appear 45 times: 40\n",
      "Number of deid_pat_ID that appear 46 times: 27\n",
      "Number of deid_pat_ID that appear 47 times: 26\n",
      "Number of deid_pat_ID that appear 48 times: 26\n",
      "Number of deid_pat_ID that appear 49 times: 19\n",
      "Number of deid_pat_ID that appear 50 times: 16\n",
      "Number of deid_pat_ID that appear 51 times: 19\n",
      "Number of deid_pat_ID that appear 52 times: 15\n",
      "Number of deid_pat_ID that appear 53 times: 12\n",
      "Number of deid_pat_ID that appear 54 times: 5\n",
      "Number of deid_pat_ID that appear 55 times: 10\n",
      "Number of deid_pat_ID that appear 56 times: 6\n",
      "Number of deid_pat_ID that appear 57 times: 14\n",
      "Number of deid_pat_ID that appear 58 times: 2\n",
      "Number of deid_pat_ID that appear 59 times: 8\n",
      "Number of deid_pat_ID that appear 60 times: 3\n",
      "Number of deid_pat_ID that appear 61 times: 2\n",
      "Number of deid_pat_ID that appear 62 times: 1\n",
      "Number of deid_pat_ID that appear 64 times: 1\n",
      "Number of deid_pat_ID that appear 65 times: 3\n",
      "Number of deid_pat_ID that appear 67 times: 5\n",
      "Number of deid_pat_ID that appear 68 times: 1\n",
      "Number of deid_pat_ID that appear 69 times: 1\n",
      "Number of deid_pat_ID that appear 71 times: 2\n",
      "Number of deid_pat_ID that appear 72 times: 2\n",
      "Number of deid_pat_ID that appear 73 times: 1\n",
      "Number of deid_pat_ID that appear 74 times: 2\n",
      "Number of deid_pat_ID that appear 76 times: 1\n",
      "Number of deid_pat_ID that appear 78 times: 1\n",
      "Number of deid_pat_ID that appear 79 times: 1\n",
      "Number of deid_pat_ID that appear 81 times: 1\n",
      "Number of deid_pat_ID that appear 84 times: 1\n",
      "Number of deid_pat_ID that appear 85 times: 2\n",
      "Number of deid_pat_ID that appear 87 times: 1\n",
      "Number of deid_pat_ID that appear 90 times: 1\n",
      "Number of deid_pat_ID that appear 96 times: 1\n",
      "Number of deid_pat_ID that appear 149 times: 1\n",
      "Number of deid_pat_ID that appear 166 times: 1\n"
     ]
    },
    {
     "data": {
      "image/png": "[encoded data removed]",
      "text/plain": [
       "<Figure size 640x480 with 1 Axes>"
      ]
     },
     "metadata": {},
     "output_type": "display_data"
    }
   ],
   "source": [
    "import pandas as pd\n",
    "import matplotlib.pyplot as plt\n",
    "\n",
    "# Read the CSV file\n",
    "file_path = '/blue/bianjiang/leyang.sun/temporal_data/patients_encounter_lab_HbA1c.csv'\n",
    "a1c = pd.read_csv(file_path)\n",
    "\n",
    "# Count the occurrences of each deid_enc_ID\n",
    "id_counts = a1c['deid_pat_ID'].value_counts()\n",
    "\n",
    "# Count the occurrences of unique counts\n",
    "count_counts = id_counts.value_counts().sort_index()\n",
    "\n",
    "# Print the count information\n",
    "for count, frequency in count_counts.items():\n",
    "    print(f\"Number of deid_pat_ID that appear {count} times: {frequency}\")\n",
    "\n",
    "# Create a bar plot\n",
    "plt.bar(count_counts.index, count_counts.values, color='skyblue')\n",
    "plt.title('Distribution of deid_pat_ID Occurrences')\n",
    "plt.xlabel('Number of Occurrences')\n",
    "plt.ylabel('Number of deid_pat_ID')\n",
    "plt.show()\n"
   ]
  },
  {
   "cell_type": "markdown",
   "id": "0d90c54d-fc85-43f4-a614-8758d5bc02f7",
   "metadata": {},
   "source": [
    "## filter out patient that appear less than 6 times"
   ]
  },
  {
   "cell_type": "code",
   "execution_count": 23,
   "id": "b8469915-a13a-45c2-ac3f-531a63923b61",
   "metadata": {},
   "outputs": [
    {
     "name": "stderr",
     "output_type": "stream",
     "text": [
      "/scratch/local/16624550/ipykernel_2403941/2403078210.py:9: SettingWithCopyWarning: \n",
      "A value is trying to be set on a copy of a slice from a DataFrame.\n",
      "Try using .loc[row_indexer,col_indexer] = value instead\n",
      "\n",
      "See the caveats in the documentation: https://pandas.pydata.org/pandas-docs/stable/user_guide/indexing.html#returning-a-view-versus-a-copy\n",
      "  a1c_filtered['START_DATE'] = pd.to_datetime(a1c_filtered['START_DATE'])\n"
     ]
    },
    {
     "data": {
      "image/png": "[encoded data removed]",
      "text/plain": [
       "<Figure size 640x480 with 1 Axes>"
      ]
     },
     "metadata": {},
     "output_type": "display_data"
    }
   ],
   "source": [
    "\n",
    "# Count the occurrences of each deid_enc_ID\n",
    "id_counts = a1c['deid_pat_ID'].value_counts()\n",
    "\n",
    "# Filter out patients that appear less than 6 times\n",
    "a1c_filtered = a1c[a1c['deid_pat_ID'].isin(id_counts[id_counts >= 6].index)]\n",
    "\n",
    "\n",
    "# Convert 'START_DATE' column to datetime\n",
    "a1c_filtered['START_DATE'] = pd.to_datetime(a1c_filtered['START_DATE'])\n",
    "\n",
    "# Group by 'deid_enc_ID' and calculate the time span for each patient\n",
    "time_span_df = a1c_filtered.groupby('deid_pat_ID')['START_DATE'].agg(['min', 'max'])\n",
    "time_span_df['time_span'] = (time_span_df['max'] - time_span_df['min']).dt.days\n",
    "\n",
    "# Plot the distribution with a specified number of bins\n",
    "plt.hist(time_span_df['time_span'], color = 'skyblue', bins=30, edgecolor='black')  # Adjust the number of bins as needed\n",
    "plt.title('Distribution of Time Span for Each Unique Patient')\n",
    "plt.xlabel('Time Span (days)')\n",
    "plt.ylabel('Number of Patients')\n",
    "plt.show()"
   ]
  },
  {
   "cell_type": "markdown",
   "id": "98d266f3-0f8b-431b-ad8f-a2fb99485b8e",
   "metadata": {},
   "source": [
    "## Count the number of patients with time span > 1825 days"
   ]
  },
  {
   "cell_type": "code",
   "execution_count": 24,
   "id": "4e51c187-2456-443a-b000-f05b7d32dac4",
   "metadata": {},
   "outputs": [
    {
     "name": "stdout",
     "output_type": "stream",
     "text": [
      "Number of patients with time span > 1825 days: 52426\n"
     ]
    }
   ],
   "source": [
    "# Count the number of patients with time span > 1825 days\n",
    "patients_with_long_time_span = time_span_df[time_span_df['time_span'] > 1825]\n",
    "\n",
    "# Get the count\n",
    "num_patients_with_long_time_span = len(patients_with_long_time_span)\n",
    "\n",
    "# Display the result\n",
    "print(f\"Number of patients with time span > 1825 days: {num_patients_with_long_time_span}\")"
   ]
  },
  {
   "cell_type": "code",
   "execution_count": 25,
   "id": "89c63646-dfd1-4d07-b65c-2a9debe6fd10",
   "metadata": {},
   "outputs": [
    {
     "name": "stdout",
     "output_type": "stream",
     "text": [
      "<bound method NDFrame.head of                                      min        max  time_span\n",
      "deid_pat_ID                                                   \n",
      "27Aug2023IRB20200328100000061 2014-01-08 2023-01-27     3306.0\n",
      "27Aug2023IRB20200328100000106 2015-04-13 2022-11-12     2770.0\n",
      "27Aug2023IRB20200328100000108 2016-10-06 2022-09-07     2162.0\n",
      "27Aug2023IRB20200328100000135 2014-11-04 2022-04-18     2722.0\n",
      "27Aug2023IRB20200328100000199 2015-05-07 2022-08-05     2647.0\n",
      "...                                  ...        ...        ...\n",
      "27Aug2023IRB20200328101103397 2013-05-31 2022-08-18     3366.0\n",
      "27Aug2023IRB20200328101103403 2014-07-05 2019-07-31     1852.0\n",
      "27Aug2023IRB20200328101103427 2015-10-21 2022-03-31     2353.0\n",
      "27Aug2023IRB20200328101103472 2016-03-27 2022-07-03     2289.0\n",
      "27Aug2023IRB20200328101103492 2015-03-13 2022-02-15     2531.0\n",
      "\n",
      "[52426 rows x 3 columns]>\n"
     ]
    }
   ],
   "source": [
    "print(patients_with_long_time_span.head)"
   ]
  },
  {
   "cell_type": "code",
   "execution_count": 26,
   "id": "40d9b150-6bc8-466d-a1f5-4ce7235ee56a",
   "metadata": {},
   "outputs": [],
   "source": [
    "# for patients in df a1c, extract the rows to a new df if deid_pat_ID is in patients_with_long_time_span['deid_pat_ID']"
   ]
  },
  {
   "cell_type": "code",
   "execution_count": 27,
   "id": "85d12ea0-1c9f-4e75-bf4e-76060073beec",
   "metadata": {},
   "outputs": [
    {
     "name": "stdout",
     "output_type": "stream",
     "text": [
      "         Unnamed: 0                    deid_pat_ID  \\\n",
      "10             7286  27Aug2023IRB20200328100300290   \n",
      "13             8301  27Aug2023IRB20200328100576038   \n",
      "17            10418  27Aug2023IRB20200328100025570   \n",
      "18            10652  27Aug2023IRB20200328100511109   \n",
      "20            10922  27Aug2023IRB20200328100451613   \n",
      "...             ...                            ...   \n",
      "2193140   450912513  27Aug2023IRB20200328100535207   \n",
      "2193148   450912783  27Aug2023IRB20200328100004119   \n",
      "2193152   450913001  27Aug2023IRB20200328100579165   \n",
      "2193154   450913065  27Aug2023IRB20200328100941858   \n",
      "2193159   450913161  27Aug2023IRB20200328100348658   \n",
      "\n",
      "                                               deid_enc_ID  START_DATE  HbA1c  \n",
      "10       a+xOcb92P1WtqADNDvgbKEd4u/wWjzd7vQo4UtqiBL169h...  2014-04-02    5.9  \n",
      "13       a+xOd7EFSCff23S+D4IfVjAIuIkd+j5yuAZDIquiBL0IhB...  2012-11-11    5.7  \n",
      "17       a+xOe7t2TlPdqgK8CPgaJUF5u/wT/T5xvAM9UqyvcMx7hR...  2014-02-03    5.9  \n",
      "18       a+xOdL92Piet23S5fvUbIjN+vokQiD4CvwdDVajcc8wN8m...  2014-04-01    7.1  \n",
      "20       a+xOcsp3SCCr3newCPgXUTUMuPoRjkR7vwJLVKjeB8l4+W...  2014-04-25    9.5  \n",
      "...                                                    ...         ...    ...  \n",
      "2193140                                                NaN  2022-08-22    9.6  \n",
      "2193148                                   ZvBCdb0DSVWoog==  2022-08-29    6.5  \n",
      "2193152                                   ZvBCdb0DS16gqQ==  2022-08-25    8.1  \n",
      "2193154                                   ZvBCdb0HSV6vqg==  2022-08-30    7.5  \n",
      "2193159                                   ZvBCdb0AQlCvrQ==  2022-08-31    9.2  \n",
      "\n",
      "[757172 rows x 5 columns]\n"
     ]
    }
   ],
   "source": [
    "selected_patients_a1c = a1c[a1c['deid_pat_ID'].isin(patients_with_long_time_span.index)]\n",
    "\n",
    "# Display the new DataFrame\n",
    "print(selected_patients_a1c)"
   ]
  },
  {
   "cell_type": "code",
   "execution_count": 33,
   "id": "b4f8520c-327a-407c-9fc9-03bf01671cd1",
   "metadata": {},
   "outputs": [
    {
     "name": "stderr",
     "output_type": "stream",
     "text": [
      "/scratch/local/16624550/ipykernel_2403941/892746951.py:1: SettingWithCopyWarning: \n",
      "A value is trying to be set on a copy of a slice from a DataFrame.\n",
      "Try using .loc[row_indexer,col_indexer] = value instead\n",
      "\n",
      "See the caveats in the documentation: https://pandas.pydata.org/pandas-docs/stable/user_guide/indexing.html#returning-a-view-versus-a-copy\n",
      "  selected_patients_a1c['START_DATE'] = pd.to_datetime(selected_patients_a1c['START_DATE'])\n"
     ]
    }
   ],
   "source": [
    "selected_patients_a1c['START_DATE'] = pd.to_datetime(selected_patients_a1c['START_DATE'])\n",
    "\n",
    "grouped_df = selected_patients_a1c.groupby('deid_pat_ID')\n",
    "\n",
    "min_start_dates = grouped_df['START_DATE'].min()\n",
    "\n",
    "window_size = pd.DateOffset(months=3)\n",
    "num_windows = 20\n",
    "result_df = pd.DataFrame()\n",
    "\n",
    "for i in range(num_windows):\n",
    "    window_start = min_start_dates + i * window_size\n",
    "    window_end = window_start + window_size\n",
    "\n",
    "    windowed_df = pd.DataFrame({'window_start': window_start, 'window_end': window_end})\n",
    "    \n",
    "    windowed_df['average_HbA1c'] = grouped_df.apply(\n",
    "        lambda group: group[(group['START_DATE'] >= window_start[group.name]) & (group['START_DATE'] < window_end[group.name])]['HbA1c'].mean()\n",
    "    )\n",
    "    windowed_df['average_HbA1c'] = windowed_df['average_HbA1c'].ffill()\n",
    "\n",
    "    # Add 'deid_pat_ID' column to windowed_df\n",
    "    windowed_df['deid_pat_ID'] = windowed_df.apply(lambda row: grouped_df.get_group(row.name)['deid_pat_ID'].unique()[0], axis=1)\n",
    "\n",
    "    result_df = pd.concat([result_df, windowed_df.reset_index(drop=True)], ignore_index=True)\n"
   ]
  },
  {
   "cell_type": "code",
   "execution_count": 29,
   "id": "8a467c64-da6a-43ee-ad10-aacb6dc98a24",
   "metadata": {},
   "outputs": [
    {
     "name": "stderr",
     "output_type": "stream",
     "text": [
      "/scratch/local/16624550/ipykernel_2403941/2921642438.py:2: SettingWithCopyWarning: \n",
      "A value is trying to be set on a copy of a slice from a DataFrame.\n",
      "Try using .loc[row_indexer,col_indexer] = value instead\n",
      "\n",
      "See the caveats in the documentation: https://pandas.pydata.org/pandas-docs/stable/user_guide/indexing.html#returning-a-view-versus-a-copy\n",
      "  selected_patients_a1c['START_DATE'] = pd.to_datetime(selected_patients_a1c['START_DATE'])\n"
     ]
    }
   ],
   "source": [
    "# # Assuming 'START_DATE' is in string format, convert it to datetime\n",
    "# selected_patients_a1c['START_DATE'] = pd.to_datetime(selected_patients_a1c['START_DATE'])\n",
    "\n",
    "# # Step 1: Group by 'deid_pat_ID'\n",
    "# grouped_df = selected_patients_a1c.groupby('deid_pat_ID')\n",
    "\n",
    "# # Step 2: Calculate the minimum 'START_DATE' for each patient\n",
    "# min_start_dates = grouped_df['START_DATE'].min()\n",
    "\n",
    "# window_size = pd.DateOffset(months=3)\n",
    "# num_windows = 20\n",
    "# result_df = pd.DataFrame()\n",
    "\n",
    "# for i in range(num_windows):\n",
    "#     window_start = min_start_dates + i * window_size\n",
    "#     window_end = window_start + window_size\n",
    "\n",
    "#     # Create a windowed DataFrame for each iteration\n",
    "#     windowed_df = pd.DataFrame({'window_start': window_start, 'window_end': window_end})\n",
    "    \n",
    "#     # Step 4: Calculate average 'HbA1c' within each window\n",
    "#     windowed_df['average_HbA1c'] = grouped_df.apply(\n",
    "#         lambda group: group[(group['START_DATE'] >= window_start[group.name]) & (group['START_DATE'] < window_end[group.name])]['HbA1c'].mean()\n",
    "#     )\n",
    "#     windowed_df['average_HbA1c'] = windowed_df['average_HbA1c'].ffill()\n",
    "    \n",
    "#     # Concatenate the windowed DataFrame to the result DataFrame\n",
    "#     result_df = pd.concat([result_df, windowed_df.reset_index(drop=True)], ignore_index=True)\n"
   ]
  },
  {
   "cell_type": "code",
   "execution_count": 34,
   "id": "6b0d463a-85cc-4653-b579-cc0c0ab5ea59",
   "metadata": {},
   "outputs": [],
   "source": [
    "# Save result_df to a binary file using pickle format\n",
    "result_df.to_pickle('result_df_binary.pkl')"
   ]
  },
  {
   "cell_type": "code",
   "execution_count": 35,
   "id": "c145be25-1322-44b7-9ca7-b8298210716e",
   "metadata": {},
   "outputs": [
    {
     "name": "stdout",
     "output_type": "stream",
     "text": [
      "        window_start window_end  average_HbA1c                    deid_pat_ID\n",
      "0         2014-01-08 2014-04-08           7.45  27Aug2023IRB20200328100000061\n",
      "1         2015-04-13 2015-07-13           6.60  27Aug2023IRB20200328100000106\n",
      "2         2016-10-06 2017-01-06           9.00  27Aug2023IRB20200328100000108\n",
      "3         2014-11-04 2015-02-04           7.40  27Aug2023IRB20200328100000135\n",
      "4         2015-05-07 2015-08-07           8.90  27Aug2023IRB20200328100000199\n",
      "...              ...        ...            ...                            ...\n",
      "1048515   2018-02-28 2018-05-28           6.15  27Aug2023IRB20200328101103397\n",
      "1048516   2019-04-05 2019-07-05           6.60  27Aug2023IRB20200328101103403\n",
      "1048517   2020-07-21 2020-10-21           6.60  27Aug2023IRB20200328101103427\n",
      "1048518   2020-12-27 2021-03-27           6.50  27Aug2023IRB20200328101103472\n",
      "1048519   2019-12-13 2020-03-13           6.50  27Aug2023IRB20200328101103492\n",
      "\n",
      "[1048520 rows x 4 columns]\n"
     ]
    }
   ],
   "source": [
    "print(result_df)"
   ]
  },
  {
   "cell_type": "code",
   "execution_count": null,
   "id": "8420b4b5-d7d6-45a2-b898-495dc15d8342",
   "metadata": {},
   "outputs": [],
   "source": []
  },
  {
   "cell_type": "code",
   "execution_count": null,
   "id": "734e00b9-e3f6-40a4-9ecb-dd3e24b5dc9b",
   "metadata": {},
   "outputs": [],
   "source": [
    "# Assuming 'result_df' is your DataFrame with disease progression information\n",
    "# Make sure 'window_start' is in datetime format\n",
    "result_df['window_start'] = pd.to_datetime(result_df['window_start'])\n",
    "\n",
    "# Group by 'deid_pat_ID' for plotting individual patient lines\n",
    "grouped_result_df = result_df.groupby('deid_pat_ID')\n",
    "\n",
    "# Plot disease progression for each patient\n",
    "plt.figure(figsize=(10, 6))\n",
    "\n",
    "for group_name, group_data in grouped_result_df:\n",
    "    plt.plot(group_data['window_start'], group_data['average_HbA1c'], label=f'Patient {group_name}')\n",
    "\n",
    "plt.title('Disease Progression for Each Patient')\n",
    "plt.xlabel('Time Window Start Date')\n",
    "plt.ylabel('Average HbA1c')\n",
    "plt.legend()\n",
    "plt.show()"
   ]
  }
 ],
 "metadata": {
  "kernelspec": {
   "display_name": "Python 3 (ipykernel)",
   "language": "python",
   "name": "python3"
  },
  "language_info": {
   "codemirror_mode": {
    "name": "ipython",
    "version": 3
   },
   "file_extension": ".py",
   "mimetype": "text/x-python",
   "name": "python",
   "nbconvert_exporter": "python",
   "pygments_lexer": "ipython3",
   "version": "3.10.12"
  }
 },
 "nbformat": 4,
 "nbformat_minor": 5
}
